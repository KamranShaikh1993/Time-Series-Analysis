{
 "cells": [
  {
   "cell_type": "code",
   "execution_count": 1,
   "metadata": {
    "executionInfo": {
     "elapsed": 740,
     "status": "ok",
     "timestamp": 1660820957219,
     "user": {
      "displayName": "Kamran Shaikh",
      "userId": "05909890588408576726"
     },
     "user_tz": -330
    },
    "id": "pkZxKcy0ZQ7U"
   },
   "outputs": [],
   "source": [
    "#Gail Stock Price prediction using RNN \n",
    "import numpy as np\n",
    "import pandas as pd\n",
    "import matplotlib.pyplot as plt\n",
    "import seaborn as sns\n",
    "import warnings\n",
    "warnings.filterwarnings('ignore')"
   ]
  },
  {
   "cell_type": "code",
   "execution_count": 2,
   "metadata": {
    "colab": {
     "base_uri": "https://localhost:8080/",
     "height": 206
    },
    "executionInfo": {
     "elapsed": 13,
     "status": "ok",
     "timestamp": 1660820957220,
     "user": {
      "displayName": "Kamran Shaikh",
      "userId": "05909890588408576726"
     },
     "user_tz": -330
    },
    "id": "P9AT1LX7ZnVs",
    "outputId": "86a74403-9f0d-439a-f3de-6bcc61f72928"
   },
   "outputs": [
    {
     "data": {
      "text/html": [
       "<div>\n",
       "<style scoped>\n",
       "    .dataframe tbody tr th:only-of-type {\n",
       "        vertical-align: middle;\n",
       "    }\n",
       "\n",
       "    .dataframe tbody tr th {\n",
       "        vertical-align: top;\n",
       "    }\n",
       "\n",
       "    .dataframe thead th {\n",
       "        text-align: right;\n",
       "    }\n",
       "</style>\n",
       "<table border=\"1\" class=\"dataframe\">\n",
       "  <thead>\n",
       "    <tr style=\"text-align: right;\">\n",
       "      <th></th>\n",
       "      <th>Date</th>\n",
       "      <th>Open</th>\n",
       "      <th>High</th>\n",
       "      <th>Low</th>\n",
       "      <th>Close</th>\n",
       "      <th>Adj Close</th>\n",
       "      <th>Volume</th>\n",
       "    </tr>\n",
       "  </thead>\n",
       "  <tbody>\n",
       "    <tr>\n",
       "      <th>0</th>\n",
       "      <td>2021-08-18</td>\n",
       "      <td>147.199997</td>\n",
       "      <td>147.800003</td>\n",
       "      <td>145.050003</td>\n",
       "      <td>145.600006</td>\n",
       "      <td>135.598816</td>\n",
       "      <td>4409849</td>\n",
       "    </tr>\n",
       "    <tr>\n",
       "      <th>1</th>\n",
       "      <td>2021-08-20</td>\n",
       "      <td>140.000000</td>\n",
       "      <td>144.399994</td>\n",
       "      <td>140.000000</td>\n",
       "      <td>140.350006</td>\n",
       "      <td>130.709427</td>\n",
       "      <td>14354380</td>\n",
       "    </tr>\n",
       "    <tr>\n",
       "      <th>2</th>\n",
       "      <td>2021-08-23</td>\n",
       "      <td>142.600006</td>\n",
       "      <td>144.100006</td>\n",
       "      <td>140.000000</td>\n",
       "      <td>140.800003</td>\n",
       "      <td>131.128525</td>\n",
       "      <td>7997462</td>\n",
       "    </tr>\n",
       "    <tr>\n",
       "      <th>3</th>\n",
       "      <td>2021-08-24</td>\n",
       "      <td>142.000000</td>\n",
       "      <td>148.000000</td>\n",
       "      <td>141.949997</td>\n",
       "      <td>145.449997</td>\n",
       "      <td>135.459122</td>\n",
       "      <td>21248075</td>\n",
       "    </tr>\n",
       "    <tr>\n",
       "      <th>4</th>\n",
       "      <td>2021-08-25</td>\n",
       "      <td>146.600006</td>\n",
       "      <td>147.500000</td>\n",
       "      <td>144.000000</td>\n",
       "      <td>144.899994</td>\n",
       "      <td>134.946899</td>\n",
       "      <td>7673148</td>\n",
       "    </tr>\n",
       "  </tbody>\n",
       "</table>\n",
       "</div>"
      ],
      "text/plain": [
       "         Date        Open        High         Low       Close   Adj Close  \\\n",
       "0  2021-08-18  147.199997  147.800003  145.050003  145.600006  135.598816   \n",
       "1  2021-08-20  140.000000  144.399994  140.000000  140.350006  130.709427   \n",
       "2  2021-08-23  142.600006  144.100006  140.000000  140.800003  131.128525   \n",
       "3  2021-08-24  142.000000  148.000000  141.949997  145.449997  135.459122   \n",
       "4  2021-08-25  146.600006  147.500000  144.000000  144.899994  134.946899   \n",
       "\n",
       "     Volume  \n",
       "0   4409849  \n",
       "1  14354380  \n",
       "2   7997462  \n",
       "3  21248075  \n",
       "4   7673148  "
      ]
     },
     "execution_count": 2,
     "metadata": {},
     "output_type": "execute_result"
    }
   ],
   "source": [
    "df=pd.read_csv('GAIL.NS.csv')\n",
    "df.head()"
   ]
  },
  {
   "cell_type": "code",
   "execution_count": 3,
   "metadata": {
    "colab": {
     "base_uri": "https://localhost:8080/"
    },
    "executionInfo": {
     "elapsed": 12,
     "status": "ok",
     "timestamp": 1660820957221,
     "user": {
      "displayName": "Kamran Shaikh",
      "userId": "05909890588408576726"
     },
     "user_tz": -330
    },
    "id": "zZAfaM8rZ0c5",
    "outputId": "07354b12-376b-46d9-d7a7-6b85a563e946"
   },
   "outputs": [
    {
     "data": {
      "text/plain": [
       "('2021-08-18', '2022-08-18')"
      ]
     },
     "execution_count": 3,
     "metadata": {},
     "output_type": "execute_result"
    }
   ],
   "source": [
    "df['Date'].min() , df['Date'].max()"
   ]
  },
  {
   "cell_type": "code",
   "execution_count": 4,
   "metadata": {
    "colab": {
     "base_uri": "https://localhost:8080/"
    },
    "executionInfo": {
     "elapsed": 60,
     "status": "ok",
     "timestamp": 1660820957899,
     "user": {
      "displayName": "Kamran Shaikh",
      "userId": "05909890588408576726"
     },
     "user_tz": -330
    },
    "id": "KbytCyNyZ9tN",
    "outputId": "de1557bc-0063-42da-fdc0-c626043015f8"
   },
   "outputs": [
    {
     "data": {
      "text/plain": [
       "Date          object\n",
       "Open         float64\n",
       "High         float64\n",
       "Low          float64\n",
       "Close        float64\n",
       "Adj Close    float64\n",
       "Volume         int64\n",
       "dtype: object"
      ]
     },
     "execution_count": 4,
     "metadata": {},
     "output_type": "execute_result"
    }
   ],
   "source": [
    "df.dtypes"
   ]
  },
  {
   "cell_type": "code",
   "execution_count": 5,
   "metadata": {
    "colab": {
     "base_uri": "https://localhost:8080/"
    },
    "executionInfo": {
     "elapsed": 58,
     "status": "ok",
     "timestamp": 1660820957900,
     "user": {
      "displayName": "Kamran Shaikh",
      "userId": "05909890588408576726"
     },
     "user_tz": -330
    },
    "id": "ksmOTK2eaL5v",
    "outputId": "91ea0af2-7444-469f-d58e-7d3e2077c28a"
   },
   "outputs": [
    {
     "name": "stdout",
     "output_type": "stream",
     "text": [
      "<class 'pandas.core.frame.DataFrame'>\n",
      "RangeIndex: 249 entries, 0 to 248\n",
      "Data columns (total 7 columns):\n",
      " #   Column     Non-Null Count  Dtype  \n",
      "---  ------     --------------  -----  \n",
      " 0   Date       249 non-null    object \n",
      " 1   Open       249 non-null    float64\n",
      " 2   High       249 non-null    float64\n",
      " 3   Low        249 non-null    float64\n",
      " 4   Close      249 non-null    float64\n",
      " 5   Adj Close  249 non-null    float64\n",
      " 6   Volume     249 non-null    int64  \n",
      "dtypes: float64(5), int64(1), object(1)\n",
      "memory usage: 13.7+ KB\n"
     ]
    }
   ],
   "source": [
    "df.info()"
   ]
  },
  {
   "cell_type": "code",
   "execution_count": 6,
   "metadata": {
    "colab": {
     "base_uri": "https://localhost:8080/",
     "height": 206
    },
    "executionInfo": {
     "elapsed": 55,
     "status": "ok",
     "timestamp": 1660820957901,
     "user": {
      "displayName": "Kamran Shaikh",
      "userId": "05909890588408576726"
     },
     "user_tz": -330
    },
    "id": "h9Ws1QRxaxUP",
    "outputId": "33aa62df-3e3d-4dbd-abe6-fec664a97553"
   },
   "outputs": [
    {
     "data": {
      "text/html": [
       "<div>\n",
       "<style scoped>\n",
       "    .dataframe tbody tr th:only-of-type {\n",
       "        vertical-align: middle;\n",
       "    }\n",
       "\n",
       "    .dataframe tbody tr th {\n",
       "        vertical-align: top;\n",
       "    }\n",
       "\n",
       "    .dataframe thead th {\n",
       "        text-align: right;\n",
       "    }\n",
       "</style>\n",
       "<table border=\"1\" class=\"dataframe\">\n",
       "  <thead>\n",
       "    <tr style=\"text-align: right;\">\n",
       "      <th></th>\n",
       "      <th>Date</th>\n",
       "      <th>Open</th>\n",
       "      <th>High</th>\n",
       "      <th>Low</th>\n",
       "      <th>Close</th>\n",
       "      <th>Adj Close</th>\n",
       "      <th>Volume</th>\n",
       "    </tr>\n",
       "  </thead>\n",
       "  <tbody>\n",
       "    <tr>\n",
       "      <th>0</th>\n",
       "      <td>2021-08-18</td>\n",
       "      <td>147.199997</td>\n",
       "      <td>147.800003</td>\n",
       "      <td>145.050003</td>\n",
       "      <td>145.600006</td>\n",
       "      <td>135.598816</td>\n",
       "      <td>4409849</td>\n",
       "    </tr>\n",
       "    <tr>\n",
       "      <th>1</th>\n",
       "      <td>2021-08-20</td>\n",
       "      <td>140.000000</td>\n",
       "      <td>144.399994</td>\n",
       "      <td>140.000000</td>\n",
       "      <td>140.350006</td>\n",
       "      <td>130.709427</td>\n",
       "      <td>14354380</td>\n",
       "    </tr>\n",
       "    <tr>\n",
       "      <th>2</th>\n",
       "      <td>2021-08-23</td>\n",
       "      <td>142.600006</td>\n",
       "      <td>144.100006</td>\n",
       "      <td>140.000000</td>\n",
       "      <td>140.800003</td>\n",
       "      <td>131.128525</td>\n",
       "      <td>7997462</td>\n",
       "    </tr>\n",
       "    <tr>\n",
       "      <th>3</th>\n",
       "      <td>2021-08-24</td>\n",
       "      <td>142.000000</td>\n",
       "      <td>148.000000</td>\n",
       "      <td>141.949997</td>\n",
       "      <td>145.449997</td>\n",
       "      <td>135.459122</td>\n",
       "      <td>21248075</td>\n",
       "    </tr>\n",
       "    <tr>\n",
       "      <th>4</th>\n",
       "      <td>2021-08-25</td>\n",
       "      <td>146.600006</td>\n",
       "      <td>147.500000</td>\n",
       "      <td>144.000000</td>\n",
       "      <td>144.899994</td>\n",
       "      <td>134.946899</td>\n",
       "      <td>7673148</td>\n",
       "    </tr>\n",
       "  </tbody>\n",
       "</table>\n",
       "</div>"
      ],
      "text/plain": [
       "        Date        Open        High         Low       Close   Adj Close  \\\n",
       "0 2021-08-18  147.199997  147.800003  145.050003  145.600006  135.598816   \n",
       "1 2021-08-20  140.000000  144.399994  140.000000  140.350006  130.709427   \n",
       "2 2021-08-23  142.600006  144.100006  140.000000  140.800003  131.128525   \n",
       "3 2021-08-24  142.000000  148.000000  141.949997  145.449997  135.459122   \n",
       "4 2021-08-25  146.600006  147.500000  144.000000  144.899994  134.946899   \n",
       "\n",
       "     Volume  \n",
       "0   4409849  \n",
       "1  14354380  \n",
       "2   7997462  \n",
       "3  21248075  \n",
       "4   7673148  "
      ]
     },
     "execution_count": 6,
     "metadata": {},
     "output_type": "execute_result"
    }
   ],
   "source": [
    "df['Date']=pd.to_datetime(df['Date'])\n",
    "df.head()"
   ]
  },
  {
   "cell_type": "code",
   "execution_count": 7,
   "metadata": {
    "colab": {
     "base_uri": "https://localhost:8080/"
    },
    "executionInfo": {
     "elapsed": 53,
     "status": "ok",
     "timestamp": 1660820957901,
     "user": {
      "displayName": "Kamran Shaikh",
      "userId": "05909890588408576726"
     },
     "user_tz": -330
    },
    "id": "kaRl8ksxa9IX",
    "outputId": "f5814372-1aaf-454c-a3e5-7374fb9c93bb"
   },
   "outputs": [
    {
     "data": {
      "text/plain": [
       "Date         datetime64[ns]\n",
       "Open                float64\n",
       "High                float64\n",
       "Low                 float64\n",
       "Close               float64\n",
       "Adj Close           float64\n",
       "Volume                int64\n",
       "dtype: object"
      ]
     },
     "execution_count": 7,
     "metadata": {},
     "output_type": "execute_result"
    }
   ],
   "source": [
    "df.dtypes"
   ]
  },
  {
   "cell_type": "code",
   "execution_count": 8,
   "metadata": {
    "colab": {
     "base_uri": "https://localhost:8080/"
    },
    "executionInfo": {
     "elapsed": 51,
     "status": "ok",
     "timestamp": 1660820957902,
     "user": {
      "displayName": "Kamran Shaikh",
      "userId": "05909890588408576726"
     },
     "user_tz": -330
    },
    "id": "pBS34kXDa_uu",
    "outputId": "95fe834b-8861-4ed5-d430-4d433eb130ff"
   },
   "outputs": [
    {
     "data": {
      "text/plain": [
       "(249, 7)"
      ]
     },
     "execution_count": 8,
     "metadata": {},
     "output_type": "execute_result"
    }
   ],
   "source": [
    "df.shape"
   ]
  },
  {
   "cell_type": "code",
   "execution_count": 9,
   "metadata": {
    "colab": {
     "base_uri": "https://localhost:8080/",
     "height": 206
    },
    "executionInfo": {
     "elapsed": 48,
     "status": "ok",
     "timestamp": 1660820957902,
     "user": {
      "displayName": "Kamran Shaikh",
      "userId": "05909890588408576726"
     },
     "user_tz": -330
    },
    "id": "JpIQwAPAbXxD",
    "outputId": "15c0d26e-a8d9-4cfd-f263-76272e25d326"
   },
   "outputs": [
    {
     "data": {
      "text/html": [
       "<div>\n",
       "<style scoped>\n",
       "    .dataframe tbody tr th:only-of-type {\n",
       "        vertical-align: middle;\n",
       "    }\n",
       "\n",
       "    .dataframe tbody tr th {\n",
       "        vertical-align: top;\n",
       "    }\n",
       "\n",
       "    .dataframe thead th {\n",
       "        text-align: right;\n",
       "    }\n",
       "</style>\n",
       "<table border=\"1\" class=\"dataframe\">\n",
       "  <thead>\n",
       "    <tr style=\"text-align: right;\">\n",
       "      <th></th>\n",
       "      <th>Date</th>\n",
       "      <th>Open</th>\n",
       "    </tr>\n",
       "  </thead>\n",
       "  <tbody>\n",
       "    <tr>\n",
       "      <th>0</th>\n",
       "      <td>2021-08-18</td>\n",
       "      <td>147.199997</td>\n",
       "    </tr>\n",
       "    <tr>\n",
       "      <th>1</th>\n",
       "      <td>2021-08-20</td>\n",
       "      <td>140.000000</td>\n",
       "    </tr>\n",
       "    <tr>\n",
       "      <th>2</th>\n",
       "      <td>2021-08-23</td>\n",
       "      <td>142.600006</td>\n",
       "    </tr>\n",
       "    <tr>\n",
       "      <th>3</th>\n",
       "      <td>2021-08-24</td>\n",
       "      <td>142.000000</td>\n",
       "    </tr>\n",
       "    <tr>\n",
       "      <th>4</th>\n",
       "      <td>2021-08-25</td>\n",
       "      <td>146.600006</td>\n",
       "    </tr>\n",
       "  </tbody>\n",
       "</table>\n",
       "</div>"
      ],
      "text/plain": [
       "        Date        Open\n",
       "0 2021-08-18  147.199997\n",
       "1 2021-08-20  140.000000\n",
       "2 2021-08-23  142.600006\n",
       "3 2021-08-24  142.000000\n",
       "4 2021-08-25  146.600006"
      ]
     },
     "execution_count": 9,
     "metadata": {},
     "output_type": "execute_result"
    }
   ],
   "source": [
    "df[[\"Date\",\"Open\"]].head()"
   ]
  },
  {
   "cell_type": "code",
   "execution_count": 10,
   "metadata": {
    "colab": {
     "base_uri": "https://localhost:8080/"
    },
    "executionInfo": {
     "elapsed": 48,
     "status": "ok",
     "timestamp": 1660820957903,
     "user": {
      "displayName": "Kamran Shaikh",
      "userId": "05909890588408576726"
     },
     "user_tz": -330
    },
    "id": "UHatmHS-bEE_",
    "outputId": "5d1d10d1-f188-4564-e834-c9ba39654f81"
   },
   "outputs": [
    {
     "data": {
      "text/plain": [
       "Date         0\n",
       "Open         0\n",
       "High         0\n",
       "Low          0\n",
       "Close        0\n",
       "Adj Close    0\n",
       "Volume       0\n",
       "dtype: int64"
      ]
     },
     "execution_count": 10,
     "metadata": {},
     "output_type": "execute_result"
    }
   ],
   "source": [
    "#To check null values\n",
    "df.isnull().sum()"
   ]
  },
  {
   "cell_type": "code",
   "execution_count": 11,
   "metadata": {
    "colab": {
     "base_uri": "https://localhost:8080/"
    },
    "executionInfo": {
     "elapsed": 45,
     "status": "ok",
     "timestamp": 1660820957903,
     "user": {
      "displayName": "Kamran Shaikh",
      "userId": "05909890588408576726"
     },
     "user_tz": -330
    },
    "id": "WUF4HZWWbIVG",
    "outputId": "6acbb110-4d72-4b68-c3df-caa978ee7f15"
   },
   "outputs": [
    {
     "data": {
      "text/plain": [
       "array([[147.199997],\n",
       "       [140.      ],\n",
       "       [142.600006],\n",
       "       [142.      ],\n",
       "       [146.600006],\n",
       "       [144.899994],\n",
       "       [143.300003],\n",
       "       [143.350006],\n",
       "       [145.949997],\n",
       "       [147.      ],\n",
       "       [145.899994],\n",
       "       [146.      ],\n",
       "       [149.      ],\n",
       "       [146.899994],\n",
       "       [145.      ],\n",
       "       [144.949997],\n",
       "       [145.949997],\n",
       "       [147.199997],\n",
       "       [156.      ],\n",
       "       [157.      ],\n",
       "       [156.850006],\n",
       "       [152.      ],\n",
       "       [149.800003],\n",
       "       [150.899994],\n",
       "       [152.050003],\n",
       "       [154.      ],\n",
       "       [155.      ],\n",
       "       [154.25    ],\n",
       "       [157.949997],\n",
       "       [158.949997],\n",
       "       [160.199997],\n",
       "       [164.399994],\n",
       "       [161.600006],\n",
       "       [165.      ],\n",
       "       [168.050003],\n",
       "       [161.300003],\n",
       "       [158.899994],\n",
       "       [158.949997],\n",
       "       [158.300003],\n",
       "       [160.      ],\n",
       "       [161.      ],\n",
       "       [161.800003],\n",
       "       [155.      ],\n",
       "       [153.100006],\n",
       "       [152.5     ],\n",
       "       [151.550003],\n",
       "       [148.850006],\n",
       "       [152.149994],\n",
       "       [150.5     ],\n",
       "       [146.649994],\n",
       "       [152.5     ],\n",
       "       [150.699997],\n",
       "       [151.850006],\n",
       "       [151.300003],\n",
       "       [152.5     ],\n",
       "       [152.      ],\n",
       "       [150.649994],\n",
       "       [152.      ],\n",
       "       [150.149994],\n",
       "       [147.850006],\n",
       "       [147.149994],\n",
       "       [145.350006],\n",
       "       [145.550003],\n",
       "       [141.      ],\n",
       "       [136.100006],\n",
       "       [139.      ],\n",
       "       [140.75    ],\n",
       "       [140.      ],\n",
       "       [133.600006],\n",
       "       [130.149994],\n",
       "       [131.100006],\n",
       "       [130.600006],\n",
       "       [132.149994],\n",
       "       [132.449997],\n",
       "       [129.800003],\n",
       "       [133.5     ],\n",
       "       [134.5     ],\n",
       "       [134.25    ],\n",
       "       [136.800003],\n",
       "       [132.75    ],\n",
       "       [134.949997],\n",
       "       [132.5     ],\n",
       "       [130.      ],\n",
       "       [129.5     ],\n",
       "       [127.      ],\n",
       "       [129.899994],\n",
       "       [130.850006],\n",
       "       [134.100006],\n",
       "       [130.850006],\n",
       "       [131.649994],\n",
       "       [132.850006],\n",
       "       [128.699997],\n",
       "       [128.      ],\n",
       "       [129.5     ],\n",
       "       [132.449997],\n",
       "       [133.949997],\n",
       "       [136.100006],\n",
       "       [139.449997],\n",
       "       [140.      ],\n",
       "       [142.75    ],\n",
       "       [142.25    ],\n",
       "       [143.699997],\n",
       "       [144.399994],\n",
       "       [141.550003],\n",
       "       [144.600006],\n",
       "       [142.600006],\n",
       "       [147.600006],\n",
       "       [146.449997],\n",
       "       [142.050003],\n",
       "       [138.75    ],\n",
       "       [142.      ],\n",
       "       [142.149994],\n",
       "       [143.      ],\n",
       "       [145.      ],\n",
       "       [148.5     ],\n",
       "       [145.      ],\n",
       "       [149.75    ],\n",
       "       [147.449997],\n",
       "       [148.350006],\n",
       "       [145.      ],\n",
       "       [143.399994],\n",
       "       [140.699997],\n",
       "       [139.      ],\n",
       "       [138.300003],\n",
       "       [139.350006],\n",
       "       [140.550003],\n",
       "       [140.      ],\n",
       "       [140.399994],\n",
       "       [132.100006],\n",
       "       [135.050003],\n",
       "       [134.      ],\n",
       "       [131.      ],\n",
       "       [135.      ],\n",
       "       [146.      ],\n",
       "       [154.75    ],\n",
       "       [159.      ],\n",
       "       [156.300003],\n",
       "       [161.649994],\n",
       "       [158.149994],\n",
       "       [152.      ],\n",
       "       [148.      ],\n",
       "       [153.899994],\n",
       "       [151.600006],\n",
       "       [149.699997],\n",
       "       [153.25    ],\n",
       "       [147.25    ],\n",
       "       [145.      ],\n",
       "       [144.149994],\n",
       "       [144.149994],\n",
       "       [147.5     ],\n",
       "       [152.      ],\n",
       "       [153.199997],\n",
       "       [153.5     ],\n",
       "       [154.800003],\n",
       "       [157.      ],\n",
       "       [163.600006],\n",
       "       [162.850006],\n",
       "       [159.800003],\n",
       "       [162.449997],\n",
       "       [161.350006],\n",
       "       [163.      ],\n",
       "       [165.449997],\n",
       "       [167.949997],\n",
       "       [167.149994],\n",
       "       [169.399994],\n",
       "       [171.449997],\n",
       "       [164.      ],\n",
       "       [163.      ],\n",
       "       [161.899994],\n",
       "       [159.600006],\n",
       "       [155.899994],\n",
       "       [158.      ],\n",
       "       [158.5     ],\n",
       "       [158.149994],\n",
       "       [157.      ],\n",
       "       [159.      ],\n",
       "       [158.600006],\n",
       "       [158.      ],\n",
       "       [154.949997],\n",
       "       [148.949997],\n",
       "       [150.350006],\n",
       "       [151.050003],\n",
       "       [148.949997],\n",
       "       [152.800003],\n",
       "       [154.75    ],\n",
       "       [151.      ],\n",
       "       [154.550003],\n",
       "       [155.      ],\n",
       "       [153.850006],\n",
       "       [152.25    ],\n",
       "       [152.449997],\n",
       "       [152.300003],\n",
       "       [145.050003],\n",
       "       [144.25    ],\n",
       "       [147.449997],\n",
       "       [149.050003],\n",
       "       [150.      ],\n",
       "       [146.100006],\n",
       "       [148.399994],\n",
       "       [152.149994],\n",
       "       [151.5     ],\n",
       "       [151.949997],\n",
       "       [148.      ],\n",
       "       [145.600006],\n",
       "       [149.600006],\n",
       "       [148.949997],\n",
       "       [139.      ],\n",
       "       [139.949997],\n",
       "       [134.      ],\n",
       "       [134.5     ],\n",
       "       [133.      ],\n",
       "       [134.      ],\n",
       "       [134.      ],\n",
       "       [133.899994],\n",
       "       [135.699997],\n",
       "       [138.899994],\n",
       "       [134.100006],\n",
       "       [131.      ],\n",
       "       [133.850006],\n",
       "       [133.5     ],\n",
       "       [134.199997],\n",
       "       [141.399994],\n",
       "       [137.25    ],\n",
       "       [138.      ],\n",
       "       [139.949997],\n",
       "       [137.75    ],\n",
       "       [139.550003],\n",
       "       [140.699997],\n",
       "       [143.899994],\n",
       "       [144.100006],\n",
       "       [141.800003],\n",
       "       [144.600006],\n",
       "       [144.800003],\n",
       "       [147.25    ],\n",
       "       [144.5     ],\n",
       "       [147.75    ],\n",
       "       [147.300003],\n",
       "       [146.600006],\n",
       "       [146.850006],\n",
       "       [142.350006],\n",
       "       [140.800003],\n",
       "       [139.899994],\n",
       "       [134.      ],\n",
       "       [133.350006],\n",
       "       [132.      ],\n",
       "       [129.199997],\n",
       "       [132.449997],\n",
       "       [135.449997],\n",
       "       [135.25    ]])"
      ]
     },
     "execution_count": 11,
     "metadata": {},
     "output_type": "execute_result"
    }
   ],
   "source": [
    "#separate Open column from given dataset \n",
    "df1=df.iloc[:,1:2].values #or df1=df['Open']  df.loc[:,'Open']\n",
    "#1:2 means start=1 and stop=2-1=1\n",
    "type(df1)\n",
    "df1"
   ]
  },
  {
   "cell_type": "code",
   "execution_count": 1,
   "metadata": {
    "executionInfo": {
     "elapsed": 43,
     "status": "ok",
     "timestamp": 1660820957904,
     "user": {
      "displayName": "Kamran Shaikh",
      "userId": "05909890588408576726"
     },
     "user_tz": -330
    },
    "id": "zDbfAOcObNt2"
   },
   "outputs": [],
   "source": [
    "#Feature Scaling is the most important part of data preprocessing \n",
    "#Stock market data : low -high \n",
    "#Mostly apply Normalisation : means minmaxscalerdf2\n",
    "from sklearn.preprocessing import MinMaxScaler"
   ]
  },
  {
   "cell_type": "code",
   "execution_count": 13,
   "metadata": {
    "executionInfo": {
     "elapsed": 43,
     "status": "ok",
     "timestamp": 1660820957904,
     "user": {
      "displayName": "Kamran Shaikh",
      "userId": "05909890588408576726"
     },
     "user_tz": -330
    },
    "id": "n1Tl_ESqbqN1"
   },
   "outputs": [],
   "source": [
    "#create object of MinMaxScaler class\n",
    "mms=MinMaxScaler()\n",
    "df2=mms.fit_transform(df1)"
   ]
  },
  {
   "cell_type": "code",
   "execution_count": 14,
   "metadata": {
    "colab": {
     "base_uri": "https://localhost:8080/"
    },
    "executionInfo": {
     "elapsed": 43,
     "status": "ok",
     "timestamp": 1660820957905,
     "user": {
      "displayName": "Kamran Shaikh",
      "userId": "05909890588408576726"
     },
     "user_tz": -330
    },
    "id": "whIQGcvfb9AM",
    "outputId": "e9b72cb3-803b-48fc-c752-034f432e2609"
   },
   "outputs": [
    {
     "data": {
      "text/plain": [
       "array([[0.45444316],\n",
       "       [0.29246346],\n",
       "       [0.35095629],\n",
       "       [0.33745784],\n",
       "       [0.44094505],\n",
       "       [0.40269955],\n",
       "       [0.36670425],\n",
       "       [0.36782918],\n",
       "       [0.42632167],\n",
       "       [0.44994379],\n",
       "       [0.42519674],\n",
       "       [0.4274466 ],\n",
       "       [0.49493817],\n",
       "       [0.44769393],\n",
       "       [0.40494941],\n",
       "       [0.40382448],\n",
       "       [0.42632167],\n",
       "       [0.45444316],\n",
       "       [0.65241849],\n",
       "       [0.67491568],\n",
       "       [0.67154124],\n",
       "       [0.56242973],\n",
       "       [0.51293599],\n",
       "       [0.53768269],\n",
       "       [0.56355466],\n",
       "       [0.60742411],\n",
       "       [0.6299213 ],\n",
       "       [0.61304841],\n",
       "       [0.69628794],\n",
       "       [0.71878513],\n",
       "       [0.74690662],\n",
       "       [0.84139475],\n",
       "       [0.77840289],\n",
       "       [0.8548932 ],\n",
       "       [0.92350969],\n",
       "       [0.77165366],\n",
       "       [0.71766021],\n",
       "       [0.71878513],\n",
       "       [0.70416209],\n",
       "       [0.74240725],\n",
       "       [0.76490444],\n",
       "       [0.78290226],\n",
       "       [0.6299213 ],\n",
       "       [0.58717678],\n",
       "       [0.57367833],\n",
       "       [0.55230607],\n",
       "       [0.49156372],\n",
       "       [0.56580418],\n",
       "       [0.52868395],\n",
       "       [0.44206964],\n",
       "       [0.57367833],\n",
       "       [0.53318332],\n",
       "       [0.55905529],\n",
       "       [0.54668177],\n",
       "       [0.57367833],\n",
       "       [0.56242973],\n",
       "       [0.53205839],\n",
       "       [0.56242973],\n",
       "       [0.5208098 ],\n",
       "       [0.46906653],\n",
       "       [0.45331823],\n",
       "       [0.41282356],\n",
       "       [0.41732293],\n",
       "       [0.31496065],\n",
       "       [0.20472456],\n",
       "       [0.26996627],\n",
       "       [0.30933635],\n",
       "       [0.29246346],\n",
       "       [0.14848158],\n",
       "       [0.07086601],\n",
       "       [0.09223861],\n",
       "       [0.08099002],\n",
       "       [0.11586039],\n",
       "       [0.12260961],\n",
       "       [0.0629922 ],\n",
       "       [0.14623173],\n",
       "       [0.16872892],\n",
       "       [0.16310462],\n",
       "       [0.22047252],\n",
       "       [0.12935884],\n",
       "       [0.17885259],\n",
       "       [0.12373454],\n",
       "       [0.06749157],\n",
       "       [0.05624297],\n",
       "       [0.        ],\n",
       "       [0.06524171],\n",
       "       [0.08661431],\n",
       "       [0.15973018],\n",
       "       [0.08661431],\n",
       "       [0.1046118 ],\n",
       "       [0.13160869],\n",
       "       [0.03824515],\n",
       "       [0.02249719],\n",
       "       [0.05624297],\n",
       "       [0.12260961],\n",
       "       [0.1563554 ],\n",
       "       [0.20472456],\n",
       "       [0.28008994],\n",
       "       [0.29246346],\n",
       "       [0.35433073],\n",
       "       [0.34308214],\n",
       "       [0.37570299],\n",
       "       [0.39145096],\n",
       "       [0.32733417],\n",
       "       [0.39595067],\n",
       "       [0.35095629],\n",
       "       [0.46344224],\n",
       "       [0.43757027],\n",
       "       [0.33858277],\n",
       "       [0.26434198],\n",
       "       [0.33745784],\n",
       "       [0.34083228],\n",
       "       [0.35995503],\n",
       "       [0.40494941],\n",
       "       [0.48368957],\n",
       "       [0.40494941],\n",
       "       [0.51181106],\n",
       "       [0.46006746],\n",
       "       [0.48031513],\n",
       "       [0.40494941],\n",
       "       [0.36895377],\n",
       "       [0.30821143],\n",
       "       [0.26996627],\n",
       "       [0.25421831],\n",
       "       [0.27784042],\n",
       "       [0.30483698],\n",
       "       [0.29246346],\n",
       "       [0.3014622 ],\n",
       "       [0.1147358 ],\n",
       "       [0.18110244],\n",
       "       [0.15748033],\n",
       "       [0.08998876],\n",
       "       [0.17997751],\n",
       "       [0.4274466 ],\n",
       "       [0.62429701],\n",
       "       [0.71991006],\n",
       "       [0.65916772],\n",
       "       [0.77952748],\n",
       "       [0.70078731],\n",
       "       [0.56242973],\n",
       "       [0.47244098],\n",
       "       [0.60517426],\n",
       "       [0.55343099],\n",
       "       [0.51068613],\n",
       "       [0.59055122],\n",
       "       [0.45556808],\n",
       "       [0.40494941],\n",
       "       [0.38582666],\n",
       "       [0.38582666],\n",
       "       [0.46119238],\n",
       "       [0.56242973],\n",
       "       [0.58942629],\n",
       "       [0.59617552],\n",
       "       [0.62542193],\n",
       "       [0.67491568],\n",
       "       [0.82339727],\n",
       "       [0.80652437],\n",
       "       [0.73790788],\n",
       "       [0.7975253 ],\n",
       "       [0.77277859],\n",
       "       [0.80989882],\n",
       "       [0.86501686],\n",
       "       [0.92125984],\n",
       "       [0.90326202],\n",
       "       [0.95388069],\n",
       "       [1.        ],\n",
       "       [0.83239601],\n",
       "       [0.80989882],\n",
       "       [0.78515177],\n",
       "       [0.73340851],\n",
       "       [0.65016864],\n",
       "       [0.69741287],\n",
       "       [0.70866147],\n",
       "       [0.70078731],\n",
       "       [0.67491568],\n",
       "       [0.71991006],\n",
       "       [0.71091132],\n",
       "       [0.69741287],\n",
       "       [0.62879638],\n",
       "       [0.49381324],\n",
       "       [0.52530951],\n",
       "       [0.54105747],\n",
       "       [0.49381324],\n",
       "       [0.58042755],\n",
       "       [0.62429701],\n",
       "       [0.53993254],\n",
       "       [0.61979763],\n",
       "       [0.6299213 ],\n",
       "       [0.60404967],\n",
       "       [0.56805403],\n",
       "       [0.5725534 ],\n",
       "       [0.56917896],\n",
       "       [0.40607434],\n",
       "       [0.38807652],\n",
       "       [0.46006746],\n",
       "       [0.49606309],\n",
       "       [0.51743536],\n",
       "       [0.42969645],\n",
       "       [0.48143972],\n",
       "       [0.56580418],\n",
       "       [0.55118114],\n",
       "       [0.56130481],\n",
       "       [0.47244098],\n",
       "       [0.41844786],\n",
       "       [0.50843661],\n",
       "       [0.49381324],\n",
       "       [0.26996627],\n",
       "       [0.29133853],\n",
       "       [0.15748033],\n",
       "       [0.16872892],\n",
       "       [0.13498314],\n",
       "       [0.15748033],\n",
       "       [0.15748033],\n",
       "       [0.15523047],\n",
       "       [0.19572548],\n",
       "       [0.26771642],\n",
       "       [0.15973018],\n",
       "       [0.08998876],\n",
       "       [0.15410588],\n",
       "       [0.14623173],\n",
       "       [0.1619797 ],\n",
       "       [0.32395939],\n",
       "       [0.23059619],\n",
       "       [0.24746908],\n",
       "       [0.29133853],\n",
       "       [0.24184479],\n",
       "       [0.28233979],\n",
       "       [0.30821143],\n",
       "       [0.38020237],\n",
       "       [0.38470207],\n",
       "       [0.33295847],\n",
       "       [0.39595067],\n",
       "       [0.40045004],\n",
       "       [0.45556808],\n",
       "       [0.39370081],\n",
       "       [0.46681668],\n",
       "       [0.45669301],\n",
       "       [0.44094505],\n",
       "       [0.44656934],\n",
       "       [0.34533199],\n",
       "       [0.31046128],\n",
       "       [0.29021361],\n",
       "       [0.15748033],\n",
       "       [0.14285729],\n",
       "       [0.11248595],\n",
       "       [0.04949375],\n",
       "       [0.12260961],\n",
       "       [0.19010118],\n",
       "       [0.18560181]])"
      ]
     },
     "execution_count": 14,
     "metadata": {},
     "output_type": "execute_result"
    }
   ],
   "source": [
    "df2"
   ]
  },
  {
   "cell_type": "code",
   "execution_count": 15,
   "metadata": {
    "colab": {
     "base_uri": "https://localhost:8080/"
    },
    "executionInfo": {
     "elapsed": 32,
     "status": "ok",
     "timestamp": 1660820957905,
     "user": {
      "displayName": "Kamran Shaikh",
      "userId": "05909890588408576726"
     },
     "user_tz": -330
    },
    "id": "PqiQWzUbcHq8",
    "outputId": "e6f7b33e-599e-4386-b76f-39b8e3fbe6f5"
   },
   "outputs": [
    {
     "data": {
      "text/plain": [
       "249"
      ]
     },
     "execution_count": 15,
     "metadata": {},
     "output_type": "execute_result"
    }
   ],
   "source": [
    "#no. of rows\n",
    "len(df2)"
   ]
  },
  {
   "cell_type": "code",
   "execution_count": 16,
   "metadata": {
    "executionInfo": {
     "elapsed": 24,
     "status": "ok",
     "timestamp": 1660820957906,
     "user": {
      "displayName": "Kamran Shaikh",
      "userId": "05909890588408576726"
     },
     "user_tz": -330
    },
    "id": "72iN7d3ccg8s"
   },
   "outputs": [],
   "source": [
    "# Now seperate input and output from one column opening\n",
    "X_train=df2[0:248]\n",
    "Y_train=df2[1:249]"
   ]
  },
  {
   "cell_type": "code",
   "execution_count": 17,
   "metadata": {
    "colab": {
     "base_uri": "https://localhost:8080/"
    },
    "executionInfo": {
     "elapsed": 24,
     "status": "ok",
     "timestamp": 1660820957906,
     "user": {
      "displayName": "Kamran Shaikh",
      "userId": "05909890588408576726"
     },
     "user_tz": -330
    },
    "id": "nqC-2sOPczjY",
    "outputId": "bca46815-25d0-4cd9-e97c-aad5455d2a0c"
   },
   "outputs": [
    {
     "data": {
      "text/plain": [
       "(248, 248)"
      ]
     },
     "execution_count": 17,
     "metadata": {},
     "output_type": "execute_result"
    }
   ],
   "source": [
    "len(X_train),len(Y_train)"
   ]
  },
  {
   "cell_type": "code",
   "execution_count": 18,
   "metadata": {
    "colab": {
     "base_uri": "https://localhost:8080/"
    },
    "executionInfo": {
     "elapsed": 23,
     "status": "ok",
     "timestamp": 1660820957907,
     "user": {
      "displayName": "Kamran Shaikh",
      "userId": "05909890588408576726"
     },
     "user_tz": -330
    },
    "id": "UY5am8tWc3x4",
    "outputId": "8c3a0c64-5aea-4fe3-93eb-af108f6b9477"
   },
   "outputs": [
    {
     "data": {
      "text/plain": [
       "2"
      ]
     },
     "execution_count": 18,
     "metadata": {},
     "output_type": "execute_result"
    }
   ],
   "source": [
    "# Check dimension\n",
    "X_train.ndim"
   ]
  },
  {
   "cell_type": "code",
   "execution_count": 19,
   "metadata": {
    "executionInfo": {
     "elapsed": 21,
     "status": "ok",
     "timestamp": 1660820957908,
     "user": {
      "displayName": "Kamran Shaikh",
      "userId": "05909890588408576726"
     },
     "user_tz": -330
    },
    "id": "CTh1m_XadENi"
   },
   "outputs": [],
   "source": [
    "#We provide 3D data then we converts our input X_train data into 3D \n",
    "X_train=np.reshape(X_train,(248,1,1))   # t+1=1\n",
    "# reshape(data,(rows,cols,timestamp))"
   ]
  },
  {
   "cell_type": "code",
   "execution_count": 20,
   "metadata": {
    "colab": {
     "base_uri": "https://localhost:8080/"
    },
    "executionInfo": {
     "elapsed": 21,
     "status": "ok",
     "timestamp": 1660820957908,
     "user": {
      "displayName": "Kamran Shaikh",
      "userId": "05909890588408576726"
     },
     "user_tz": -330
    },
    "id": "cb8ieT5adl5y",
    "outputId": "da092eb6-08bb-46f8-ed35-a5a892da49e1"
   },
   "outputs": [
    {
     "data": {
      "text/plain": [
       "3"
      ]
     },
     "execution_count": 20,
     "metadata": {},
     "output_type": "execute_result"
    }
   ],
   "source": [
    "#To check dimension\n",
    "X_train.ndim"
   ]
  },
  {
   "cell_type": "code",
   "execution_count": 21,
   "metadata": {
    "executionInfo": {
     "elapsed": 3036,
     "status": "ok",
     "timestamp": 1660820960925,
     "user": {
      "displayName": "Kamran Shaikh",
      "userId": "05909890588408576726"
     },
     "user_tz": -330
    },
    "id": "gRy3_bmtdpRR"
   },
   "outputs": [
    {
     "name": "stderr",
     "output_type": "stream",
     "text": [
      "2022-08-21 13:20:03.328885: W tensorflow/stream_executor/platform/default/dso_loader.cc:64] Could not load dynamic library 'libcudart.so.11.0'; dlerror: libcudart.so.11.0: cannot open shared object file: No such file or directory\n",
      "2022-08-21 13:20:03.328916: I tensorflow/stream_executor/cuda/cudart_stub.cc:29] Ignore above cudart dlerror if you do not have a GPU set up on your machine.\n"
     ]
    }
   ],
   "source": [
    "#Part-2 : -\n",
    "#Building the RNN with LSTM \n",
    "#Recurrent neural network \n",
    "#LSTM means long short term memory \n",
    "from tensorflow.keras.models import Sequential #initialise neural network\n",
    "from tensorflow.keras.layers import Dense,Dropout #to add input layer,output layer,\n",
    "#and hidden layer\n",
    "from tensorflow.keras.layers import LSTM  #to use built the model \n",
    "#LSTM : to manage internal memory , to store previous o/p \n",
    "#long short term memory "
   ]
  },
  {
   "cell_type": "code",
   "execution_count": 22,
   "metadata": {
    "executionInfo": {
     "elapsed": 16,
     "status": "ok",
     "timestamp": 1660820960926,
     "user": {
      "displayName": "Kamran Shaikh",
      "userId": "05909890588408576726"
     },
     "user_tz": -330
    },
    "id": "Qe7dbCZEePFg"
   },
   "outputs": [
    {
     "name": "stderr",
     "output_type": "stream",
     "text": [
      "2022-08-21 13:20:04.796134: W tensorflow/stream_executor/platform/default/dso_loader.cc:64] Could not load dynamic library 'libcuda.so.1'; dlerror: libcuda.so.1: cannot open shared object file: No such file or directory\n",
      "2022-08-21 13:20:04.796166: W tensorflow/stream_executor/cuda/cuda_driver.cc:269] failed call to cuInit: UNKNOWN ERROR (303)\n",
      "2022-08-21 13:20:04.796190: I tensorflow/stream_executor/cuda/cuda_diagnostics.cc:156] kernel driver does not appear to be running on this host (desktop): /proc/driver/nvidia/version does not exist\n"
     ]
    }
   ],
   "source": [
    "#create objecgt of Sequential class\n",
    "model=Sequential()"
   ]
  },
  {
   "cell_type": "code",
   "execution_count": 23,
   "metadata": {
    "executionInfo": {
     "elapsed": 14,
     "status": "ok",
     "timestamp": 1660820960926,
     "user": {
      "displayName": "Kamran Shaikh",
      "userId": "05909890588408576726"
     },
     "user_tz": -330
    },
    "id": "Td7mf6-keYOQ"
   },
   "outputs": [],
   "source": [
    "#To add layers in model\n",
    "#This layer are input layer and LSTM layer \n",
    "model.add(LSTM(units=50,activation='sigmoid',input_shape=(None,1)))\n",
    "#None means to take no. of rows and 1 means 1 column\n",
    "# Take droupout as we have to consider more neurons\n",
    "model.add(Dropout(0.1))    # .........0.1 means 10 percent\n",
    "#To add output layer \n",
    "model.add(Dense(units=1,activation='linear'))    # by default activation='sigmoid'"
   ]
  },
  {
   "cell_type": "code",
   "execution_count": 24,
   "metadata": {
    "colab": {
     "base_uri": "https://localhost:8080/"
    },
    "executionInfo": {
     "elapsed": 670,
     "status": "ok",
     "timestamp": 1660820961583,
     "user": {
      "displayName": "Kamran Shaikh",
      "userId": "05909890588408576726"
     },
     "user_tz": -330
    },
    "id": "bfD2cQQMfOO5",
    "outputId": "ff187a44-6aa7-4cb6-9075-514c735b21a2"
   },
   "outputs": [
    {
     "name": "stdout",
     "output_type": "stream",
     "text": [
      "Model: \"sequential\"\n",
      "_________________________________________________________________\n",
      " Layer (type)                Output Shape              Param #   \n",
      "=================================================================\n",
      " lstm (LSTM)                 (None, 50)                10400     \n",
      "                                                                 \n",
      " dropout (Dropout)           (None, 50)                0         \n",
      "                                                                 \n",
      " dense (Dense)               (None, 1)                 51        \n",
      "                                                                 \n",
      "=================================================================\n",
      "Total params: 10,451\n",
      "Trainable params: 10,451\n",
      "Non-trainable params: 0\n",
      "_________________________________________________________________\n"
     ]
    }
   ],
   "source": [
    "model.summary()"
   ]
  },
  {
   "cell_type": "code",
   "execution_count": 25,
   "metadata": {
    "executionInfo": {
     "elapsed": 19,
     "status": "ok",
     "timestamp": 1660820961584,
     "user": {
      "displayName": "Kamran Shaikh",
      "userId": "05909890588408576726"
     },
     "user_tz": -330
    },
    "id": "wXq3-dOnfwr2"
   },
   "outputs": [],
   "source": [
    "#compile the model \n",
    "model.compile(optimizer='adam',loss='mean_squared_error')"
   ]
  },
  {
   "cell_type": "code",
   "execution_count": 26,
   "metadata": {
    "executionInfo": {
     "elapsed": 19,
     "status": "ok",
     "timestamp": 1660820961585,
     "user": {
      "displayName": "Kamran Shaikh",
      "userId": "05909890588408576726"
     },
     "user_tz": -330
    },
    "id": "xustOooBf-48"
   },
   "outputs": [],
   "source": [
    "X_train1=X_train[:198]\n",
    "X_test=X_train[198:]"
   ]
  },
  {
   "cell_type": "code",
   "execution_count": 27,
   "metadata": {
    "colab": {
     "base_uri": "https://localhost:8080/"
    },
    "executionInfo": {
     "elapsed": 19,
     "status": "ok",
     "timestamp": 1660820961585,
     "user": {
      "displayName": "Kamran Shaikh",
      "userId": "05909890588408576726"
     },
     "user_tz": -330
    },
    "id": "2jrIYTDMhNHa",
    "outputId": "50ae1e63-1261-4957-c41a-ec19c824a083"
   },
   "outputs": [
    {
     "data": {
      "text/plain": [
       "198"
      ]
     },
     "execution_count": 27,
     "metadata": {},
     "output_type": "execute_result"
    }
   ],
   "source": [
    "len(X_train1)"
   ]
  },
  {
   "cell_type": "code",
   "execution_count": 28,
   "metadata": {
    "executionInfo": {
     "elapsed": 15,
     "status": "ok",
     "timestamp": 1660820961586,
     "user": {
      "displayName": "Kamran Shaikh",
      "userId": "05909890588408576726"
     },
     "user_tz": -330
    },
    "id": "vYj9CLNUhgH6"
   },
   "outputs": [],
   "source": [
    "Y_train1=Y_train[:198]\n",
    "Y_test=Y_train[198:]"
   ]
  },
  {
   "cell_type": "code",
   "execution_count": 29,
   "metadata": {
    "colab": {
     "base_uri": "https://localhost:8080/"
    },
    "executionInfo": {
     "elapsed": 15,
     "status": "ok",
     "timestamp": 1660820961587,
     "user": {
      "displayName": "Kamran Shaikh",
      "userId": "05909890588408576726"
     },
     "user_tz": -330
    },
    "id": "Fqyh-9NshqXR",
    "outputId": "4ee8fb54-6386-404b-cd34-a837ecfb9ba0"
   },
   "outputs": [
    {
     "data": {
      "text/plain": [
       "(198, 50)"
      ]
     },
     "execution_count": 29,
     "metadata": {},
     "output_type": "execute_result"
    }
   ],
   "source": [
    "len(Y_train1),len(Y_test)"
   ]
  },
  {
   "cell_type": "code",
   "execution_count": 30,
   "metadata": {
    "executionInfo": {
     "elapsed": 13,
     "status": "ok",
     "timestamp": 1660820961588,
     "user": {
      "displayName": "Kamran Shaikh",
      "userId": "05909890588408576726"
     },
     "user_tz": -330
    },
    "id": "NkhqtLHyinxp"
   },
   "outputs": [],
   "source": [
    "#early stopping \n",
    "from tensorflow.keras.callbacks import EarlyStopping\n",
    "#procedure for callback(EarlyStopping)\n",
    "cb = EarlyStopping(\n",
    "    monitor=\"val_loss\",\n",
    "    min_delta=0.00001,\n",
    "    patience=20,\n",
    "    verbose=1,\n",
    "    mode=\"auto\",\n",
    "    baseline=None,\n",
    "    restore_best_weights=False\n",
    ")"
   ]
  },
  {
   "cell_type": "code",
   "execution_count": 31,
   "metadata": {
    "colab": {
     "base_uri": "https://localhost:8080/"
    },
    "executionInfo": {
     "elapsed": 6153,
     "status": "ok",
     "timestamp": 1660820967729,
     "user": {
      "displayName": "Kamran Shaikh",
      "userId": "05909890588408576726"
     },
     "user_tz": -330
    },
    "id": "RfzGLi7QiBfx",
    "outputId": "12d48ccb-3a8f-4f55-ce2b-3f803941ed86"
   },
   "outputs": [
    {
     "name": "stdout",
     "output_type": "stream",
     "text": [
      "Epoch 1/2000\n",
      "7/7 [==============================] - 1s 40ms/step - loss: 0.6281 - val_loss: 0.2751\n",
      "Epoch 2/2000\n",
      "7/7 [==============================] - 0s 8ms/step - loss: 0.4591 - val_loss: 0.1718\n",
      "Epoch 3/2000\n",
      "7/7 [==============================] - 0s 8ms/step - loss: 0.3320 - val_loss: 0.0979\n",
      "Epoch 4/2000\n",
      "7/7 [==============================] - 0s 6ms/step - loss: 0.2255 - val_loss: 0.0514\n",
      "Epoch 5/2000\n",
      "7/7 [==============================] - 0s 7ms/step - loss: 0.1577 - val_loss: 0.0265\n",
      "Epoch 6/2000\n",
      "7/7 [==============================] - 0s 6ms/step - loss: 0.1102 - val_loss: 0.0175\n",
      "Epoch 7/2000\n",
      "7/7 [==============================] - 0s 6ms/step - loss: 0.0796 - val_loss: 0.0179\n",
      "Epoch 8/2000\n",
      "7/7 [==============================] - 0s 7ms/step - loss: 0.0682 - val_loss: 0.0231\n",
      "Epoch 9/2000\n",
      "7/7 [==============================] - 0s 6ms/step - loss: 0.0619 - val_loss: 0.0302\n",
      "Epoch 10/2000\n",
      "7/7 [==============================] - 0s 7ms/step - loss: 0.0585 - val_loss: 0.0366\n",
      "Epoch 11/2000\n",
      "7/7 [==============================] - 0s 7ms/step - loss: 0.0506 - val_loss: 0.0411\n",
      "Epoch 12/2000\n",
      "7/7 [==============================] - 0s 6ms/step - loss: 0.0543 - val_loss: 0.0433\n",
      "Epoch 13/2000\n",
      "7/7 [==============================] - 0s 7ms/step - loss: 0.0534 - val_loss: 0.0429\n",
      "Epoch 14/2000\n",
      "7/7 [==============================] - 0s 7ms/step - loss: 0.0551 - val_loss: 0.0433\n",
      "Epoch 15/2000\n",
      "7/7 [==============================] - 0s 6ms/step - loss: 0.0576 - val_loss: 0.0438\n",
      "Epoch 16/2000\n",
      "7/7 [==============================] - 0s 7ms/step - loss: 0.0557 - val_loss: 0.0427\n",
      "Epoch 17/2000\n",
      "7/7 [==============================] - 0s 6ms/step - loss: 0.0591 - val_loss: 0.0418\n",
      "Epoch 18/2000\n",
      "7/7 [==============================] - 0s 6ms/step - loss: 0.0534 - val_loss: 0.0413\n",
      "Epoch 19/2000\n",
      "7/7 [==============================] - 0s 6ms/step - loss: 0.0486 - val_loss: 0.0414\n",
      "Epoch 20/2000\n",
      "7/7 [==============================] - 0s 7ms/step - loss: 0.0589 - val_loss: 0.0418\n",
      "Epoch 21/2000\n",
      "7/7 [==============================] - 0s 7ms/step - loss: 0.0621 - val_loss: 0.0440\n",
      "Epoch 22/2000\n",
      "7/7 [==============================] - 0s 7ms/step - loss: 0.0600 - val_loss: 0.0448\n",
      "Epoch 23/2000\n",
      "7/7 [==============================] - 0s 6ms/step - loss: 0.0533 - val_loss: 0.0434\n",
      "Epoch 24/2000\n",
      "7/7 [==============================] - 0s 7ms/step - loss: 0.0583 - val_loss: 0.0412\n",
      "Epoch 25/2000\n",
      "7/7 [==============================] - 0s 7ms/step - loss: 0.0549 - val_loss: 0.0410\n",
      "Epoch 26/2000\n",
      "7/7 [==============================] - 0s 6ms/step - loss: 0.0589 - val_loss: 0.0391\n",
      "Epoch 26: early stopping\n"
     ]
    }
   ],
   "source": [
    "# train the model\n",
    "trained_model=model.fit(X_train1,Y_train1,validation_data=(X_test,Y_test),\n",
    "                        epochs=2000,callbacks=cb)"
   ]
  },
  {
   "cell_type": "code",
   "execution_count": 32,
   "metadata": {
    "colab": {
     "base_uri": "https://localhost:8080/",
     "height": 483
    },
    "executionInfo": {
     "elapsed": 9,
     "status": "ok",
     "timestamp": 1660820968407,
     "user": {
      "displayName": "Kamran Shaikh",
      "userId": "05909890588408576726"
     },
     "user_tz": -330
    },
    "id": "mvDZdrZciwQc",
    "outputId": "fb9e4593-6d59-491a-fb3b-d5926e1ed48b"
   },
   "outputs": [
    {
     "data": {
      "image/png": "[encoded data removed]",
      "text/plain": [
       "<Figure size 1080x576 with 1 Axes>"
      ]
     },
     "metadata": {
      "needs_background": "light"
     },
     "output_type": "display_data"
    }
   ],
   "source": [
    "plt.figure(figsize=(15,8))\n",
    "plt.plot(trained_model.history['loss'],color='red',label='trainig loss')\n",
    "plt.plot(trained_model.history['val_loss'],color='blue',label='testing loss')\n",
    "plt.show()"
   ]
  },
  {
   "cell_type": "code",
   "execution_count": 33,
   "metadata": {
    "colab": {
     "base_uri": "https://localhost:8080/"
    },
    "executionInfo": {
     "elapsed": 687,
     "status": "ok",
     "timestamp": 1660820969088,
     "user": {
      "displayName": "Kamran Shaikh",
      "userId": "05909890588408576726"
     },
     "user_tz": -330
    },
    "id": "9NuHNz85jei2",
    "outputId": "5681eb6d-4727-422f-df7d-5e21cccce842"
   },
   "outputs": [
    {
     "name": "stdout",
     "output_type": "stream",
     "text": [
      "2/2 [==============================] - 0s 2ms/step\n"
     ]
    }
   ],
   "source": [
    "# Testing the model with 20% data\n",
    "Y_pred=model.predict(X_test)"
   ]
  },
  {
   "cell_type": "code",
   "execution_count": 34,
   "metadata": {
    "colab": {
     "base_uri": "https://localhost:8080/"
    },
    "executionInfo": {
     "elapsed": 13,
     "status": "ok",
     "timestamp": 1660820969089,
     "user": {
      "displayName": "Kamran Shaikh",
      "userId": "05909890588408576726"
     },
     "user_tz": -330
    },
    "id": "NOhI7GqQlzJK",
    "outputId": "40875ba7-09a1-4279-ca0c-fbbd86789d95"
   },
   "outputs": [
    {
     "data": {
      "text/plain": [
       "array([[0.4714551 ],\n",
       "       [0.4825598 ],\n",
       "       [0.48063585],\n",
       "       [0.48196787],\n",
       "       [0.47026992],\n",
       "       [0.4631562 ],\n",
       "       [0.47500995],\n",
       "       [0.47308454],\n",
       "       [0.4435727 ],\n",
       "       [0.44639313],\n",
       "       [0.4287198 ],\n",
       "       [0.4302055 ],\n",
       "       [0.42574775],\n",
       "       [0.4287198 ],\n",
       "       [0.4287198 ],\n",
       "       [0.4284226 ],\n",
       "       [0.4337711 ],\n",
       "       [0.44327575],\n",
       "       [0.429017  ],\n",
       "       [0.4198024 ],\n",
       "       [0.42827404],\n",
       "       [0.42723382],\n",
       "       [0.42931414],\n",
       "       [0.45069712],\n",
       "       [0.4383756 ],\n",
       "       [0.44060308],\n",
       "       [0.44639313],\n",
       "       [0.4398606 ],\n",
       "       [0.4452056 ],\n",
       "       [0.4486196 ],\n",
       "       [0.45811477],\n",
       "       [0.45870802],\n",
       "       [0.4518843 ],\n",
       "       [0.46019092],\n",
       "       [0.46078396],\n",
       "       [0.4680474 ],\n",
       "       [0.45989436],\n",
       "       [0.46952906],\n",
       "       [0.46819562],\n",
       "       [0.46612078],\n",
       "       [0.46686187],\n",
       "       [0.4535164 ],\n",
       "       [0.44891644],\n",
       "       [0.4462447 ],\n",
       "       [0.4287198 ],\n",
       "       [0.426788  ],\n",
       "       [0.42277533],\n",
       "       [0.41445053],\n",
       "       [0.42411298],\n",
       "       [0.43302837]], dtype=float32)"
      ]
     },
     "execution_count": 34,
     "metadata": {},
     "output_type": "execute_result"
    }
   ],
   "source": [
    "Y_pred"
   ]
  },
  {
   "cell_type": "code",
   "execution_count": 35,
   "metadata": {
    "colab": {
     "base_uri": "https://localhost:8080/"
    },
    "executionInfo": {
     "elapsed": 648,
     "status": "ok",
     "timestamp": 1660820969728,
     "user": {
      "displayName": "Kamran Shaikh",
      "userId": "05909890588408576726"
     },
     "user_tz": -330
    },
    "id": "CpbrIeVml0nZ",
    "outputId": "e3fcd5b2-7c1e-4b07-9e6c-a6c41936a148"
   },
   "outputs": [
    {
     "data": {
      "text/plain": [
       "array([[147.95618],\n",
       "       [148.44978],\n",
       "       [148.36426],\n",
       "       [148.42346],\n",
       "       [147.9035 ],\n",
       "       [147.58728],\n",
       "       [148.1142 ],\n",
       "       [148.02861],\n",
       "       [146.7168 ],\n",
       "       [146.84218],\n",
       "       [146.0566 ],\n",
       "       [146.12263],\n",
       "       [145.92448],\n",
       "       [146.0566 ],\n",
       "       [146.0566 ],\n",
       "       [146.04338],\n",
       "       [146.28111],\n",
       "       [146.70361],\n",
       "       [146.06981],\n",
       "       [145.66022],\n",
       "       [146.03677],\n",
       "       [145.99054],\n",
       "       [146.08302],\n",
       "       [147.03348],\n",
       "       [146.4858 ],\n",
       "       [146.58481],\n",
       "       [146.84218],\n",
       "       [146.5518 ],\n",
       "       [146.78938],\n",
       "       [146.94115],\n",
       "       [147.3632 ],\n",
       "       [147.38957],\n",
       "       [147.08626],\n",
       "       [147.45549],\n",
       "       [147.48186],\n",
       "       [147.8047 ],\n",
       "       [147.4423 ],\n",
       "       [147.87056],\n",
       "       [147.8113 ],\n",
       "       [147.71907],\n",
       "       [147.75201],\n",
       "       [147.1588 ],\n",
       "       [146.95435],\n",
       "       [146.83557],\n",
       "       [146.0566 ],\n",
       "       [145.97072],\n",
       "       [145.79236],\n",
       "       [145.42232],\n",
       "       [145.85182],\n",
       "       [146.24811]], dtype=float32)"
      ]
     },
     "execution_count": 35,
     "metadata": {},
     "output_type": "execute_result"
    }
   ],
   "source": [
    "#To remove scaling on Y_pred  , use inverse_transform which are define\n",
    "#in MinMAxScaler class\n",
    "Y_pred=mms.inverse_transform(Y_pred)\n",
    "Y_pred"
   ]
  },
  {
   "cell_type": "code",
   "execution_count": 36,
   "metadata": {
    "colab": {
     "base_uri": "https://localhost:8080/"
    },
    "executionInfo": {
     "elapsed": 18,
     "status": "ok",
     "timestamp": 1660820969729,
     "user": {
      "displayName": "Kamran Shaikh",
      "userId": "05909890588408576726"
     },
     "user_tz": -330
    },
    "id": "eTvxVvgamWeK",
    "outputId": "b006bb1d-e938-41df-d6a7-6aa74d71ea3b"
   },
   "outputs": [
    {
     "data": {
      "text/plain": [
       "array([[152.149994],\n",
       "       [151.5     ],\n",
       "       [151.949997],\n",
       "       [148.      ],\n",
       "       [145.600006],\n",
       "       [149.600006],\n",
       "       [148.949997],\n",
       "       [139.      ],\n",
       "       [139.949997],\n",
       "       [134.      ],\n",
       "       [134.5     ],\n",
       "       [133.      ],\n",
       "       [134.      ],\n",
       "       [134.      ],\n",
       "       [133.899994],\n",
       "       [135.699997],\n",
       "       [138.899994],\n",
       "       [134.100006],\n",
       "       [131.      ],\n",
       "       [133.850006],\n",
       "       [133.5     ],\n",
       "       [134.199997],\n",
       "       [141.399994],\n",
       "       [137.25    ],\n",
       "       [138.      ],\n",
       "       [139.949997],\n",
       "       [137.75    ],\n",
       "       [139.550003],\n",
       "       [140.699997],\n",
       "       [143.899994],\n",
       "       [144.100006],\n",
       "       [141.800003],\n",
       "       [144.600006],\n",
       "       [144.800003],\n",
       "       [147.25    ],\n",
       "       [144.5     ],\n",
       "       [147.75    ],\n",
       "       [147.300003],\n",
       "       [146.600006],\n",
       "       [146.850006],\n",
       "       [142.350006],\n",
       "       [140.800003],\n",
       "       [139.899994],\n",
       "       [134.      ],\n",
       "       [133.350006],\n",
       "       [132.      ],\n",
       "       [129.199997],\n",
       "       [132.449997],\n",
       "       [135.449997],\n",
       "       [135.25    ]])"
      ]
     },
     "execution_count": 36,
     "metadata": {},
     "output_type": "execute_result"
    }
   ],
   "source": [
    "#To remove scaling on Y_test  , use inverse_transform which are define\n",
    "#in MinMAxScaler class\n",
    "Y_test1=mms.inverse_transform(Y_test)\n",
    "Y_test1"
   ]
  },
  {
   "cell_type": "code",
   "execution_count": 37,
   "metadata": {
    "colab": {
     "base_uri": "https://localhost:8080/",
     "height": 295
    },
    "executionInfo": {
     "elapsed": 17,
     "status": "ok",
     "timestamp": 1660820969730,
     "user": {
      "displayName": "Kamran Shaikh",
      "userId": "05909890588408576726"
     },
     "user_tz": -330
    },
    "id": "HL-V0SmGnbaA",
    "outputId": "6cfdef51-7fb8-4b04-ed4a-5921e6024225"
   },
   "outputs": [
    {
     "data": {
      "image/png": "[encoded data removed]",
      "text/plain": [
       "<Figure size 432x288 with 1 Axes>"
      ]
     },
     "metadata": {
      "needs_background": "light"
     },
     "output_type": "display_data"
    }
   ],
   "source": [
    "# for compare Actual value Stock Price and Predicted Stock price,\n",
    "# Use Visualisation\n",
    "plt.plot(Y_test1,color='red',label='Actual Stock Price')\n",
    "plt.plot(Y_pred,color='blue',label='Predicterd Stock Price')\n",
    "plt.title('Gail Stock Price')\n",
    "plt.xlabel('Date')\n",
    "plt.ylabel('Gail Stock Price')\n",
    "plt.show()"
   ]
  },
  {
   "cell_type": "code",
   "execution_count": 38,
   "metadata": {
    "colab": {
     "base_uri": "https://localhost:8080/"
    },
    "executionInfo": {
     "elapsed": 16,
     "status": "ok",
     "timestamp": 1660820969731,
     "user": {
      "displayName": "Kamran Shaikh",
      "userId": "05909890588408576726"
     },
     "user_tz": -330
    },
    "id": "4TmWsquxn05X",
    "outputId": "d025cfef-2bb6-48c8-cc72-cba96c243ba0"
   },
   "outputs": [
    {
     "data": {
      "text/plain": [
       "-1.0235906764293876"
      ]
     },
     "execution_count": 38,
     "metadata": {},
     "output_type": "execute_result"
    }
   ],
   "source": [
    "# Evaluation of model: find r2_score\n",
    "from sklearn.metrics import r2_score   # No need to remove r2_score as we are using deep learning\n",
    "r2_score(Y_test1,Y_pred)"
   ]
  },
  {
   "cell_type": "code",
   "execution_count": 39,
   "metadata": {
    "colab": {
     "base_uri": "https://localhost:8080/"
    },
    "executionInfo": {
     "elapsed": 27903,
     "status": "ok",
     "timestamp": 1660821029599,
     "user": {
      "displayName": "Kamran Shaikh",
      "userId": "05909890588408576726"
     },
     "user_tz": -330
    },
    "id": "gF711E-Sozwp",
    "outputId": "b568a049-c249-46d3-b6d0-cc224ba938de"
   },
   "outputs": [
    {
     "name": "stdout",
     "output_type": "stream",
     "text": [
      "Enter Today Opening Stock Price :135\n",
      "1/1 [==============================] - 0s 17ms/step\n",
      "Opening Price of Next day:  [[146.18869]]\n"
     ]
    }
   ],
   "source": [
    "# Predict next dat stock price\n",
    "n=float(input('Enter Today Opening Stock Price :'))\n",
    "# here n is scaler variable \n",
    "# print(type(n))\n",
    "# First, convert n into 2D numpy array\n",
    "n=np.array(n).reshape(-1,1)   # here -1 means None means automatic accept no. or rows but next 1 means no. of column\n",
    "#print(type(n))\n",
    "#print(n.ndim)\n",
    "# Apply scaling : normalisation means MinMaxScaler\n",
    "n1=mms.transform(n)\n",
    "#print(n1)\n",
    "# converts n1 from 2D into 3D array\n",
    "v=n1.reshape(-1,1,1)\n",
    "# print(v)\n",
    "# prediction\n",
    "pred=model.predict(v)\n",
    "# print(pred)\n",
    "# to remove scaling\n",
    "final=mms.inverse_transform(pred)\n",
    "print('Opening Price of Next day: ',final)"
   ]
  },
  {
   "cell_type": "code",
   "execution_count": null,
   "metadata": {
    "colab": {
     "base_uri": "https://localhost:8080/"
    },
    "executionInfo": {
     "elapsed": 9429,
     "status": "ok",
     "timestamp": 1660821086670,
     "user": {
      "displayName": "Kamran Shaikh",
      "userId": "05909890588408576726"
     },
     "user_tz": -330
    },
    "id": "mQhYXSMbpVG2",
    "outputId": "0afa33a3-243f-4509-d015-ac7822b99736"
   },
   "outputs": [],
   "source": [
    "# If we want to predict stock price of next 5 day's , then we use for loop\n",
    "\n",
    "n=float(input('Enter Today Opening Stock Price :'))\n",
    "# here n is scaler variable \n",
    "# print(type(n))\n",
    "# First, convert n into 2D numpy array\n",
    "n=np.array(n).reshape(-1,1)\n",
    "days=int(input('Enter How many days'))\n",
    "for i in range(days):\n",
    "  n=np.array(n).reshape(-1,1)   # here -1 means None means automatic accept no. or rows but next 1 means no. of column\n",
    "  # Apply scaling : normalisation means MinMaxScaler\n",
    "  n1=mms.transform(n)\n",
    "  # converts n1 from 2D into 3D array\n",
    "  v=n1.reshape(-1,1,1)\n",
    "  # prediction\n",
    "  pred=model.predict(v)\n",
    "  # to remove scaling\n",
    "  final=mms.inverse_transform(pred)\n",
    "  print('Opening Price of Next day: ',final)\n",
    "  n=final"
   ]
  },
  {
   "cell_type": "code",
   "execution_count": null,
   "metadata": {
    "executionInfo": {
     "elapsed": 3,
     "status": "ok",
     "timestamp": 1660821087077,
     "user": {
      "displayName": "Kamran Shaikh",
      "userId": "05909890588408576726"
     },
     "user_tz": -330
    },
    "id": "buySjDGypnjc"
   },
   "outputs": [],
   "source": []
  }
 ],
 "metadata": {
  "colab": {
   "authorship_tag": "ABX9TyMx97GRl2jLaGKHrQapCqeW",
   "collapsed_sections": [],
   "mount_file_id": "1XcZ11SIW6AHluZX_v6VDK4lqWSg24HSh",
   "name": "Aug_18th(GAIL.NS.csv).ipynb",
   "provenance": []
  },
  "kernelspec": {
   "display_name": "Python 3 (ipykernel)",
   "language": "python",
   "name": "python3"
  },
  "language_info": {
   "codemirror_mode": {
    "name": "ipython",
    "version": 3
   },
   "file_extension": ".py",
   "mimetype": "text/x-python",
   "name": "python",
   "nbconvert_exporter": "python",
   "pygments_lexer": "ipython3",
   "version": "3.9.7"
  }
 },
 "nbformat": 4,
 "nbformat_minor": 1
}
