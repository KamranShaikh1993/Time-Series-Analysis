{
 "cells": [
  {
   "cell_type": "code",
   "execution_count": 1,
   "id": "912f02ff",
   "metadata": {
    "id": "912f02ff"
   },
   "outputs": [],
   "source": [
    "#Google Stock Price prediction using RNN \n",
    "import numpy as np\n",
    "import pandas as pd\n",
    "import matplotlib.pyplot as plt\n",
    "import seaborn as sns\n",
    "import warnings\n",
    "warnings.filterwarnings('ignore')"
   ]
  },
  {
   "cell_type": "code",
   "execution_count": 2,
   "id": "01f2e37c",
   "metadata": {
    "colab": {
     "base_uri": "https://localhost:8080/",
     "height": 206
    },
    "executionInfo": {
     "elapsed": 15,
     "status": "ok",
     "timestamp": 1660732368471,
     "user": {
      "displayName": "Kamran Shaikh",
      "userId": "05909890588408576726"
     },
     "user_tz": -330
    },
    "id": "01f2e37c",
    "outputId": "cad63171-675d-430b-cc82-298aa4587d44"
   },
   "outputs": [
    {
     "data": {
      "text/html": [
       "<div>\n",
       "<style scoped>\n",
       "    .dataframe tbody tr th:only-of-type {\n",
       "        vertical-align: middle;\n",
       "    }\n",
       "\n",
       "    .dataframe tbody tr th {\n",
       "        vertical-align: top;\n",
       "    }\n",
       "\n",
       "    .dataframe thead th {\n",
       "        text-align: right;\n",
       "    }\n",
       "</style>\n",
       "<table border=\"1\" class=\"dataframe\">\n",
       "  <thead>\n",
       "    <tr style=\"text-align: right;\">\n",
       "      <th></th>\n",
       "      <th>Date</th>\n",
       "      <th>Open</th>\n",
       "      <th>High</th>\n",
       "      <th>Low</th>\n",
       "      <th>Close</th>\n",
       "      <th>Volume</th>\n",
       "    </tr>\n",
       "  </thead>\n",
       "  <tbody>\n",
       "    <tr>\n",
       "      <th>0</th>\n",
       "      <td>1/3/2012</td>\n",
       "      <td>325.25</td>\n",
       "      <td>332.83</td>\n",
       "      <td>324.97</td>\n",
       "      <td>663.59</td>\n",
       "      <td>7,380,500</td>\n",
       "    </tr>\n",
       "    <tr>\n",
       "      <th>1</th>\n",
       "      <td>1/4/2012</td>\n",
       "      <td>331.27</td>\n",
       "      <td>333.87</td>\n",
       "      <td>329.08</td>\n",
       "      <td>666.45</td>\n",
       "      <td>5,749,400</td>\n",
       "    </tr>\n",
       "    <tr>\n",
       "      <th>2</th>\n",
       "      <td>1/5/2012</td>\n",
       "      <td>329.83</td>\n",
       "      <td>330.75</td>\n",
       "      <td>326.89</td>\n",
       "      <td>657.21</td>\n",
       "      <td>6,590,300</td>\n",
       "    </tr>\n",
       "    <tr>\n",
       "      <th>3</th>\n",
       "      <td>1/6/2012</td>\n",
       "      <td>328.34</td>\n",
       "      <td>328.77</td>\n",
       "      <td>323.68</td>\n",
       "      <td>648.24</td>\n",
       "      <td>5,405,900</td>\n",
       "    </tr>\n",
       "    <tr>\n",
       "      <th>4</th>\n",
       "      <td>1/9/2012</td>\n",
       "      <td>322.04</td>\n",
       "      <td>322.29</td>\n",
       "      <td>309.46</td>\n",
       "      <td>620.76</td>\n",
       "      <td>11,688,800</td>\n",
       "    </tr>\n",
       "  </tbody>\n",
       "</table>\n",
       "</div>"
      ],
      "text/plain": [
       "       Date    Open    High     Low   Close      Volume\n",
       "0  1/3/2012  325.25  332.83  324.97  663.59   7,380,500\n",
       "1  1/4/2012  331.27  333.87  329.08  666.45   5,749,400\n",
       "2  1/5/2012  329.83  330.75  326.89  657.21   6,590,300\n",
       "3  1/6/2012  328.34  328.77  323.68  648.24   5,405,900\n",
       "4  1/9/2012  322.04  322.29  309.46  620.76  11,688,800"
      ]
     },
     "execution_count": 2,
     "metadata": {},
     "output_type": "execute_result"
    }
   ],
   "source": [
    "#To read traing data of google share price \n",
    "df=pd.read_csv('Google_Stock_Price_Train.csv')\n",
    "#training_set user defined dataframe\n",
    "df.head()"
   ]
  },
  {
   "cell_type": "code",
   "execution_count": 3,
   "id": "5c42d0a1",
   "metadata": {
    "colab": {
     "base_uri": "https://localhost:8080/",
     "height": 36
    },
    "executionInfo": {
     "elapsed": 13,
     "status": "ok",
     "timestamp": 1660732368472,
     "user": {
      "displayName": "Kamran Shaikh",
      "userId": "05909890588408576726"
     },
     "user_tz": -330
    },
    "id": "5c42d0a1",
    "outputId": "33cb55b3-ab26-4999-f601-3c52a29cdaa6"
   },
   "outputs": [
    {
     "data": {
      "text/plain": [
       "'1/10/2012'"
      ]
     },
     "execution_count": 3,
     "metadata": {},
     "output_type": "execute_result"
    }
   ],
   "source": [
    "df['Date'].min()"
   ]
  },
  {
   "cell_type": "code",
   "execution_count": 4,
   "id": "32d51041",
   "metadata": {
    "colab": {
     "base_uri": "https://localhost:8080/",
     "height": 36
    },
    "executionInfo": {
     "elapsed": 66,
     "status": "ok",
     "timestamp": 1660732372128,
     "user": {
      "displayName": "Kamran Shaikh",
      "userId": "05909890588408576726"
     },
     "user_tz": -330
    },
    "id": "32d51041",
    "outputId": "62227460-04eb-4cd4-f868-05a19cd93089"
   },
   "outputs": [
    {
     "data": {
      "text/plain": [
       "'9/9/2016'"
      ]
     },
     "execution_count": 4,
     "metadata": {},
     "output_type": "execute_result"
    }
   ],
   "source": [
    "df['Date'].max()"
   ]
  },
  {
   "cell_type": "code",
   "execution_count": 5,
   "id": "57b03870",
   "metadata": {
    "colab": {
     "base_uri": "https://localhost:8080/"
    },
    "executionInfo": {
     "elapsed": 64,
     "status": "ok",
     "timestamp": 1660732372129,
     "user": {
      "displayName": "Kamran Shaikh",
      "userId": "05909890588408576726"
     },
     "user_tz": -330
    },
    "id": "57b03870",
    "outputId": "7f7a87f3-1f52-4fee-dffe-b0c85d1bc5cf"
   },
   "outputs": [
    {
     "data": {
      "text/plain": [
       "Date       object\n",
       "Open      float64\n",
       "High      float64\n",
       "Low       float64\n",
       "Close      object\n",
       "Volume     object\n",
       "dtype: object"
      ]
     },
     "execution_count": 5,
     "metadata": {},
     "output_type": "execute_result"
    }
   ],
   "source": [
    "df.dtypes"
   ]
  },
  {
   "cell_type": "code",
   "execution_count": 6,
   "id": "11bf9778",
   "metadata": {
    "colab": {
     "base_uri": "https://localhost:8080/",
     "height": 206
    },
    "executionInfo": {
     "elapsed": 59,
     "status": "ok",
     "timestamp": 1660732372129,
     "user": {
      "displayName": "Kamran Shaikh",
      "userId": "05909890588408576726"
     },
     "user_tz": -330
    },
    "id": "11bf9778",
    "outputId": "49e54948-1a81-49a3-ca02-3a9b31ee9138"
   },
   "outputs": [
    {
     "data": {
      "text/html": [
       "<div>\n",
       "<style scoped>\n",
       "    .dataframe tbody tr th:only-of-type {\n",
       "        vertical-align: middle;\n",
       "    }\n",
       "\n",
       "    .dataframe tbody tr th {\n",
       "        vertical-align: top;\n",
       "    }\n",
       "\n",
       "    .dataframe thead th {\n",
       "        text-align: right;\n",
       "    }\n",
       "</style>\n",
       "<table border=\"1\" class=\"dataframe\">\n",
       "  <thead>\n",
       "    <tr style=\"text-align: right;\">\n",
       "      <th></th>\n",
       "      <th>Date</th>\n",
       "      <th>Open</th>\n",
       "      <th>High</th>\n",
       "      <th>Low</th>\n",
       "      <th>Close</th>\n",
       "      <th>Volume</th>\n",
       "    </tr>\n",
       "  </thead>\n",
       "  <tbody>\n",
       "    <tr>\n",
       "      <th>0</th>\n",
       "      <td>2012-01-03</td>\n",
       "      <td>325.25</td>\n",
       "      <td>332.83</td>\n",
       "      <td>324.97</td>\n",
       "      <td>663.59</td>\n",
       "      <td>7,380,500</td>\n",
       "    </tr>\n",
       "    <tr>\n",
       "      <th>1</th>\n",
       "      <td>2012-01-04</td>\n",
       "      <td>331.27</td>\n",
       "      <td>333.87</td>\n",
       "      <td>329.08</td>\n",
       "      <td>666.45</td>\n",
       "      <td>5,749,400</td>\n",
       "    </tr>\n",
       "    <tr>\n",
       "      <th>2</th>\n",
       "      <td>2012-01-05</td>\n",
       "      <td>329.83</td>\n",
       "      <td>330.75</td>\n",
       "      <td>326.89</td>\n",
       "      <td>657.21</td>\n",
       "      <td>6,590,300</td>\n",
       "    </tr>\n",
       "    <tr>\n",
       "      <th>3</th>\n",
       "      <td>2012-01-06</td>\n",
       "      <td>328.34</td>\n",
       "      <td>328.77</td>\n",
       "      <td>323.68</td>\n",
       "      <td>648.24</td>\n",
       "      <td>5,405,900</td>\n",
       "    </tr>\n",
       "    <tr>\n",
       "      <th>4</th>\n",
       "      <td>2012-01-09</td>\n",
       "      <td>322.04</td>\n",
       "      <td>322.29</td>\n",
       "      <td>309.46</td>\n",
       "      <td>620.76</td>\n",
       "      <td>11,688,800</td>\n",
       "    </tr>\n",
       "  </tbody>\n",
       "</table>\n",
       "</div>"
      ],
      "text/plain": [
       "        Date    Open    High     Low   Close      Volume\n",
       "0 2012-01-03  325.25  332.83  324.97  663.59   7,380,500\n",
       "1 2012-01-04  331.27  333.87  329.08  666.45   5,749,400\n",
       "2 2012-01-05  329.83  330.75  326.89  657.21   6,590,300\n",
       "3 2012-01-06  328.34  328.77  323.68  648.24   5,405,900\n",
       "4 2012-01-09  322.04  322.29  309.46  620.76  11,688,800"
      ]
     },
     "execution_count": 6,
     "metadata": {},
     "output_type": "execute_result"
    }
   ],
   "source": [
    "df['Date']=pd.to_datetime(df['Date'])\n",
    "df.head()"
   ]
  },
  {
   "cell_type": "code",
   "execution_count": 7,
   "id": "db40fe53",
   "metadata": {
    "colab": {
     "base_uri": "https://localhost:8080/",
     "height": 206
    },
    "executionInfo": {
     "elapsed": 58,
     "status": "ok",
     "timestamp": 1660732372130,
     "user": {
      "displayName": "Kamran Shaikh",
      "userId": "05909890588408576726"
     },
     "user_tz": -330
    },
    "id": "db40fe53",
    "outputId": "2568a5a4-d428-4175-aac4-fde3638143b8"
   },
   "outputs": [
    {
     "data": {
      "text/html": [
       "<div>\n",
       "<style scoped>\n",
       "    .dataframe tbody tr th:only-of-type {\n",
       "        vertical-align: middle;\n",
       "    }\n",
       "\n",
       "    .dataframe tbody tr th {\n",
       "        vertical-align: top;\n",
       "    }\n",
       "\n",
       "    .dataframe thead th {\n",
       "        text-align: right;\n",
       "    }\n",
       "</style>\n",
       "<table border=\"1\" class=\"dataframe\">\n",
       "  <thead>\n",
       "    <tr style=\"text-align: right;\">\n",
       "      <th></th>\n",
       "      <th>Date</th>\n",
       "      <th>Open</th>\n",
       "    </tr>\n",
       "  </thead>\n",
       "  <tbody>\n",
       "    <tr>\n",
       "      <th>0</th>\n",
       "      <td>2012-01-03</td>\n",
       "      <td>325.25</td>\n",
       "    </tr>\n",
       "    <tr>\n",
       "      <th>1</th>\n",
       "      <td>2012-01-04</td>\n",
       "      <td>331.27</td>\n",
       "    </tr>\n",
       "    <tr>\n",
       "      <th>2</th>\n",
       "      <td>2012-01-05</td>\n",
       "      <td>329.83</td>\n",
       "    </tr>\n",
       "    <tr>\n",
       "      <th>3</th>\n",
       "      <td>2012-01-06</td>\n",
       "      <td>328.34</td>\n",
       "    </tr>\n",
       "    <tr>\n",
       "      <th>4</th>\n",
       "      <td>2012-01-09</td>\n",
       "      <td>322.04</td>\n",
       "    </tr>\n",
       "  </tbody>\n",
       "</table>\n",
       "</div>"
      ],
      "text/plain": [
       "        Date    Open\n",
       "0 2012-01-03  325.25\n",
       "1 2012-01-04  331.27\n",
       "2 2012-01-05  329.83\n",
       "3 2012-01-06  328.34\n",
       "4 2012-01-09  322.04"
      ]
     },
     "execution_count": 7,
     "metadata": {},
     "output_type": "execute_result"
    }
   ],
   "source": [
    "df[[\"Date\",\"Open\"]].head()"
   ]
  },
  {
   "cell_type": "code",
   "execution_count": 8,
   "id": "5f74de49",
   "metadata": {
    "colab": {
     "base_uri": "https://localhost:8080/"
    },
    "executionInfo": {
     "elapsed": 57,
     "status": "ok",
     "timestamp": 1660732372131,
     "user": {
      "displayName": "Kamran Shaikh",
      "userId": "05909890588408576726"
     },
     "user_tz": -330
    },
    "id": "5f74de49",
    "outputId": "6a88a2b5-7ac2-4436-a9f0-eec53ec90a10"
   },
   "outputs": [
    {
     "name": "stdout",
     "output_type": "stream",
     "text": [
      "<class 'pandas.core.frame.DataFrame'>\n",
      "RangeIndex: 1258 entries, 0 to 1257\n",
      "Data columns (total 6 columns):\n",
      " #   Column  Non-Null Count  Dtype         \n",
      "---  ------  --------------  -----         \n",
      " 0   Date    1258 non-null   datetime64[ns]\n",
      " 1   Open    1258 non-null   float64       \n",
      " 2   High    1258 non-null   float64       \n",
      " 3   Low     1258 non-null   float64       \n",
      " 4   Close   1258 non-null   object        \n",
      " 5   Volume  1258 non-null   object        \n",
      "dtypes: datetime64[ns](1), float64(3), object(2)\n",
      "memory usage: 59.1+ KB\n"
     ]
    }
   ],
   "source": [
    "df.info()"
   ]
  },
  {
   "cell_type": "code",
   "execution_count": 9,
   "id": "99bf17f4",
   "metadata": {
    "colab": {
     "base_uri": "https://localhost:8080/"
    },
    "executionInfo": {
     "elapsed": 52,
     "status": "ok",
     "timestamp": 1660732372131,
     "user": {
      "displayName": "Kamran Shaikh",
      "userId": "05909890588408576726"
     },
     "user_tz": -330
    },
    "id": "99bf17f4",
    "outputId": "f36c647c-f1ae-4433-a58e-77ac46d74dbe"
   },
   "outputs": [
    {
     "data": {
      "text/plain": [
       "Date      0\n",
       "Open      0\n",
       "High      0\n",
       "Low       0\n",
       "Close     0\n",
       "Volume    0\n",
       "dtype: int64"
      ]
     },
     "execution_count": 9,
     "metadata": {},
     "output_type": "execute_result"
    }
   ],
   "source": [
    "#To check null values\n",
    "df.isnull().sum()"
   ]
  },
  {
   "cell_type": "code",
   "execution_count": 10,
   "id": "66f61561",
   "metadata": {
    "colab": {
     "base_uri": "https://localhost:8080/",
     "height": 36
    },
    "executionInfo": {
     "elapsed": 49,
     "status": "ok",
     "timestamp": 1660732372132,
     "user": {
      "displayName": "Kamran Shaikh",
      "userId": "05909890588408576726"
     },
     "user_tz": -330
    },
    "id": "66f61561",
    "outputId": "93d02401-37fb-4b16-cb9d-acad1292910c"
   },
   "outputs": [
    {
     "data": {
      "text/plain": [
       "'\\nX (Open)    Y(o/p)\\n325.25      331.27 \\n331.27      329.83\\n329.83      328.34\\n328.34        :\\n:\\n\\n'"
      ]
     },
     "execution_count": 10,
     "metadata": {},
     "output_type": "execute_result"
    }
   ],
   "source": [
    "'''\n",
    "X (Open)    Y(o/p)\n",
    "325.25      331.27 \n",
    "331.27      329.83\n",
    "329.83      328.34\n",
    "328.34        :\n",
    ":\n",
    "\n",
    "'''"
   ]
  },
  {
   "cell_type": "code",
   "execution_count": 11,
   "id": "71829d49",
   "metadata": {
    "colab": {
     "base_uri": "https://localhost:8080/"
    },
    "executionInfo": {
     "elapsed": 47,
     "status": "ok",
     "timestamp": 1660732372132,
     "user": {
      "displayName": "Kamran Shaikh",
      "userId": "05909890588408576726"
     },
     "user_tz": -330
    },
    "id": "71829d49",
    "outputId": "6eff2b2c-5b6c-4959-bd81-5c1a66df6f3b"
   },
   "outputs": [
    {
     "data": {
      "text/plain": [
       "numpy.ndarray"
      ]
     },
     "execution_count": 11,
     "metadata": {},
     "output_type": "execute_result"
    }
   ],
   "source": [
    "#separate Open column from given dataset \n",
    "df1=df.iloc[:,1:2].values #or df1=df['Open']  df.loc[:,'Open']\n",
    "#1:2 means start=1 and stop=2-1=1\n",
    "type(df1)"
   ]
  },
  {
   "cell_type": "code",
   "execution_count": 12,
   "id": "355955ee",
   "metadata": {
    "colab": {
     "base_uri": "https://localhost:8080/"
    },
    "executionInfo": {
     "elapsed": 44,
     "status": "ok",
     "timestamp": 1660732372133,
     "user": {
      "displayName": "Kamran Shaikh",
      "userId": "05909890588408576726"
     },
     "user_tz": -330
    },
    "id": "355955ee",
    "outputId": "18367c8a-3a22-40c0-b584-1ec7f6d0c2e4"
   },
   "outputs": [
    {
     "data": {
      "text/plain": [
       "2"
      ]
     },
     "execution_count": 12,
     "metadata": {},
     "output_type": "execute_result"
    }
   ],
   "source": [
    "df1.ndim"
   ]
  },
  {
   "cell_type": "code",
   "execution_count": 13,
   "id": "6dda5492",
   "metadata": {
    "id": "6dda5492"
   },
   "outputs": [],
   "source": [
    "#Feature Scaling is the most important part of data preprocessing \n",
    "#Stock market data : low -high \n",
    "#Mostly apply Normalisation : means minmaxscaler\n",
    "from sklearn.preprocessing import MinMaxScaler"
   ]
  },
  {
   "cell_type": "code",
   "execution_count": 14,
   "id": "ee162c6b",
   "metadata": {
    "id": "ee162c6b"
   },
   "outputs": [],
   "source": [
    "#create object of MinMaxScaler class\n",
    "mms=MinMaxScaler()\n",
    "df1=mms.fit_transform(df1)"
   ]
  },
  {
   "cell_type": "code",
   "execution_count": 15,
   "id": "75a5c121",
   "metadata": {
    "colab": {
     "base_uri": "https://localhost:8080/"
    },
    "executionInfo": {
     "elapsed": 40,
     "status": "ok",
     "timestamp": 1660732372134,
     "user": {
      "displayName": "Kamran Shaikh",
      "userId": "05909890588408576726"
     },
     "user_tz": -330
    },
    "id": "75a5c121",
    "outputId": "a79d2fdd-06fb-419d-f14f-92a225aec100"
   },
   "outputs": [
    {
     "data": {
      "text/plain": [
       "array([[0.08581368],\n",
       "       [0.09701243],\n",
       "       [0.09433366],\n",
       "       ...,\n",
       "       [0.95725128],\n",
       "       [0.93796041],\n",
       "       [0.93688146]])"
      ]
     },
     "execution_count": 15,
     "metadata": {},
     "output_type": "execute_result"
    }
   ],
   "source": [
    "df1"
   ]
  },
  {
   "cell_type": "code",
   "execution_count": 16,
   "id": "940524dc",
   "metadata": {
    "colab": {
     "base_uri": "https://localhost:8080/"
    },
    "executionInfo": {
     "elapsed": 37,
     "status": "ok",
     "timestamp": 1660732372135,
     "user": {
      "displayName": "Kamran Shaikh",
      "userId": "05909890588408576726"
     },
     "user_tz": -330
    },
    "id": "940524dc",
    "outputId": "9c6e0d74-c51e-4d91-d9b5-9d2d7ea73e77"
   },
   "outputs": [
    {
     "data": {
      "text/plain": [
       "(1258, 1)"
      ]
     },
     "execution_count": 16,
     "metadata": {},
     "output_type": "execute_result"
    }
   ],
   "source": [
    "#Find the total number of records \n",
    "df1.shape"
   ]
  },
  {
   "cell_type": "code",
   "execution_count": 17,
   "id": "72320941",
   "metadata": {
    "id": "72320941"
   },
   "outputs": [],
   "source": [
    "#separate Input and output from Open column \n",
    "X_train=df1[0:1257] #start=0 steop=1258-1=1257 \n",
    "Y_train=df1[1:1258] "
   ]
  },
  {
   "cell_type": "code",
   "execution_count": 18,
   "id": "514fb612",
   "metadata": {
    "colab": {
     "base_uri": "https://localhost:8080/"
    },
    "executionInfo": {
     "elapsed": 33,
     "status": "ok",
     "timestamp": 1660732372136,
     "user": {
      "displayName": "Kamran Shaikh",
      "userId": "05909890588408576726"
     },
     "user_tz": -330
    },
    "id": "514fb612",
    "outputId": "164de4d6-c0f8-47c7-c9ab-6b5b24aad172"
   },
   "outputs": [
    {
     "data": {
      "text/plain": [
       "(1257, 1)"
      ]
     },
     "execution_count": 18,
     "metadata": {},
     "output_type": "execute_result"
    }
   ],
   "source": [
    "X_train.shape"
   ]
  },
  {
   "cell_type": "code",
   "execution_count": 19,
   "id": "8cd47466",
   "metadata": {
    "colab": {
     "base_uri": "https://localhost:8080/"
    },
    "executionInfo": {
     "elapsed": 29,
     "status": "ok",
     "timestamp": 1660732372136,
     "user": {
      "displayName": "Kamran Shaikh",
      "userId": "05909890588408576726"
     },
     "user_tz": -330
    },
    "id": "8cd47466",
    "outputId": "16f0bbe5-1303-4f74-a057-e8eb32db1e91"
   },
   "outputs": [
    {
     "data": {
      "text/plain": [
       "(1257, 1)"
      ]
     },
     "execution_count": 19,
     "metadata": {},
     "output_type": "execute_result"
    }
   ],
   "source": [
    "Y_train.shape"
   ]
  },
  {
   "cell_type": "code",
   "execution_count": 20,
   "id": "a6bef4f5",
   "metadata": {
    "id": "a6bef4f5"
   },
   "outputs": [],
   "source": [
    "#3 Dimension "
   ]
  },
  {
   "cell_type": "code",
   "execution_count": 21,
   "id": "7e10e077",
   "metadata": {
    "colab": {
     "base_uri": "https://localhost:8080/"
    },
    "executionInfo": {
     "elapsed": 26,
     "status": "ok",
     "timestamp": 1660732372137,
     "user": {
      "displayName": "Kamran Shaikh",
      "userId": "05909890588408576726"
     },
     "user_tz": -330
    },
    "id": "7e10e077",
    "outputId": "e669c1d9-08e5-4d22-c74f-4374f0eb7dfc"
   },
   "outputs": [
    {
     "data": {
      "text/plain": [
       "2"
      ]
     },
     "execution_count": 21,
     "metadata": {},
     "output_type": "execute_result"
    }
   ],
   "source": [
    "X_train.ndim"
   ]
  },
  {
   "cell_type": "code",
   "execution_count": 22,
   "id": "17f8588a",
   "metadata": {
    "id": "17f8588a"
   },
   "outputs": [],
   "source": [
    "#no. of rows ,no. of columns,time stamp \n",
    "#1257,1,1\n",
    "#next step : we have going to reshape of our data \n",
    "#3 dimensional data should be required .\n",
    "#first dimension show no. of rows means here 1257 rows \n",
    "#second dimension : show no. of columns means no. of features(input) :here 1\n",
    "#third dimension : corresponds to a timestamp \n",
    "#because our input is t (current) and output is t+1(next day). so that \n",
    "#time stamp =t+1-t=1 .its represent time stamp\n",
    "#suppose stock price after 4 days means we predict output t+4 means \n",
    "#time stamp=t+4-t=4\n",
    "#We provide 3D data then we converts our input X_train data into 3D \n",
    "X_train=np.reshape(X_train,(1257,1,1))"
   ]
  },
  {
   "cell_type": "code",
   "execution_count": 23,
   "id": "94e3cd0b",
   "metadata": {
    "colab": {
     "base_uri": "https://localhost:8080/"
    },
    "executionInfo": {
     "elapsed": 17,
     "status": "ok",
     "timestamp": 1660732372722,
     "user": {
      "displayName": "Kamran Shaikh",
      "userId": "05909890588408576726"
     },
     "user_tz": -330
    },
    "id": "94e3cd0b",
    "outputId": "38143205-d584-460a-a03c-ebe1ba660d13"
   },
   "outputs": [
    {
     "data": {
      "text/plain": [
       "3"
      ]
     },
     "execution_count": 23,
     "metadata": {},
     "output_type": "execute_result"
    }
   ],
   "source": [
    "#To check dimension\n",
    "X_train.ndim"
   ]
  },
  {
   "cell_type": "code",
   "execution_count": 24,
   "id": "e7f85c78",
   "metadata": {
    "colab": {
     "base_uri": "https://localhost:8080/"
    },
    "executionInfo": {
     "elapsed": 11,
     "status": "ok",
     "timestamp": 1660732372723,
     "user": {
      "displayName": "Kamran Shaikh",
      "userId": "05909890588408576726"
     },
     "user_tz": -330
    },
    "id": "e7f85c78",
    "outputId": "2ad0e80a-01c5-4393-96b3-a14a621d9c7a"
   },
   "outputs": [
    {
     "data": {
      "text/plain": [
       "array([[[0.08581368]],\n",
       "\n",
       "       [[0.09701243]],\n",
       "\n",
       "       [[0.09433366]],\n",
       "\n",
       "       ...,\n",
       "\n",
       "       [[0.95163331]],\n",
       "\n",
       "       [[0.95725128]],\n",
       "\n",
       "       [[0.93796041]]])"
      ]
     },
     "execution_count": 24,
     "metadata": {},
     "output_type": "execute_result"
    }
   ],
   "source": [
    "X_train"
   ]
  },
  {
   "cell_type": "code",
   "execution_count": 25,
   "id": "c962ec2e",
   "metadata": {
    "id": "c962ec2e"
   },
   "outputs": [
    {
     "name": "stderr",
     "output_type": "stream",
     "text": [
      "2022-08-21 13:18:29.921052: W tensorflow/stream_executor/platform/default/dso_loader.cc:64] Could not load dynamic library 'libcudart.so.11.0'; dlerror: libcudart.so.11.0: cannot open shared object file: No such file or directory\n",
      "2022-08-21 13:18:29.921080: I tensorflow/stream_executor/cuda/cudart_stub.cc:29] Ignore above cudart dlerror if you do not have a GPU set up on your machine.\n"
     ]
    }
   ],
   "source": [
    "#Part-2 : -\n",
    "#Building the RNN with LSTM \n",
    "#Recurrent neural network \n",
    "#LSTM means long short term memory \n",
    "from tensorflow.keras.models import Sequential #initialise neural network\n",
    "from tensorflow.keras.layers import Dense #to add input layer,output layer,\n",
    "#and hidden layer\n",
    "from tensorflow.keras.layers import LSTM  #to use built the model \n",
    "#LSTM : to manage internal memory , to store previous o/p \n",
    "#long short term memory \n"
   ]
  },
  {
   "cell_type": "code",
   "execution_count": 26,
   "id": "1e949eeb",
   "metadata": {
    "id": "1e949eeb"
   },
   "outputs": [],
   "source": [
    "#We have regression problem means our output is contineous numeric value \n",
    "#means to predict contineous numeric value  means this is regression problem "
   ]
  },
  {
   "cell_type": "code",
   "execution_count": 27,
   "id": "4712744b",
   "metadata": {
    "id": "4712744b"
   },
   "outputs": [
    {
     "name": "stderr",
     "output_type": "stream",
     "text": [
      "2022-08-21 13:18:31.421963: W tensorflow/stream_executor/platform/default/dso_loader.cc:64] Could not load dynamic library 'libcuda.so.1'; dlerror: libcuda.so.1: cannot open shared object file: No such file or directory\n",
      "2022-08-21 13:18:31.422006: W tensorflow/stream_executor/cuda/cuda_driver.cc:269] failed call to cuInit: UNKNOWN ERROR (303)\n",
      "2022-08-21 13:18:31.422039: I tensorflow/stream_executor/cuda/cuda_diagnostics.cc:156] kernel driver does not appear to be running on this host (desktop): /proc/driver/nvidia/version does not exist\n"
     ]
    }
   ],
   "source": [
    "#create objecgt of Sequential class\n",
    "model=Sequential()"
   ]
  },
  {
   "cell_type": "code",
   "execution_count": 28,
   "id": "76af0ee5",
   "metadata": {
    "id": "76af0ee5"
   },
   "outputs": [],
   "source": [
    "#To add layers in model\n",
    "#This layer are input layer and LSTM layer \n",
    "model.add(LSTM(units=4,activation='sigmoid',input_shape=(None,1)))\n",
    "#None means to take no. of rows and 1 means 1 column\n",
    "\n",
    "#To add output layer \n",
    "model.add(Dense(units=1,activation='linear'))"
   ]
  },
  {
   "cell_type": "code",
   "execution_count": 29,
   "id": "c9f9d34e",
   "metadata": {
    "id": "c9f9d34e"
   },
   "outputs": [],
   "source": [
    "#compile the model \n",
    "model.compile(optimizer='adam',loss='mean_squared_error')"
   ]
  },
  {
   "cell_type": "code",
   "execution_count": 30,
   "id": "a10bcd24",
   "metadata": {
    "id": "a10bcd24"
   },
   "outputs": [],
   "source": [
    "#early stopping \n",
    "from tensorflow.keras.callbacks import EarlyStopping\n",
    "#procedure for callback(EarlyStopping)\n",
    "callback = EarlyStopping(\n",
    "    monitor=\"val_loss\",\n",
    "    min_delta=0.00001,\n",
    "    patience=20,\n",
    "    verbose=1,\n",
    "    mode=\"auto\",\n",
    "    baseline=None,\n",
    "    restore_best_weights=False\n",
    ")"
   ]
  },
  {
   "cell_type": "code",
   "execution_count": 31,
   "id": "89262165",
   "metadata": {
    "colab": {
     "base_uri": "https://localhost:8080/"
    },
    "executionInfo": {
     "elapsed": 44497,
     "status": "ok",
     "timestamp": 1660732422598,
     "user": {
      "displayName": "Kamran Shaikh",
      "userId": "05909890588408576726"
     },
     "user_tz": -330
    },
    "id": "89262165",
    "outputId": "ec1f6aef-eb71-4994-9a04-eb5681b93748"
   },
   "outputs": [
    {
     "name": "stdout",
     "output_type": "stream",
     "text": [
      "Epoch 1/75\n",
      "126/126 [==============================] - 1s 1ms/step - loss: 0.0803\n",
      "Epoch 2/75\n",
      "126/126 [==============================] - 0s 1ms/step - loss: 0.0700\n",
      "Epoch 3/75\n",
      "126/126 [==============================] - 0s 1ms/step - loss: 0.0643\n",
      "Epoch 4/75\n",
      "126/126 [==============================] - 0s 1ms/step - loss: 0.0588\n",
      "Epoch 5/75\n",
      "126/126 [==============================] - 0s 1ms/step - loss: 0.0535\n",
      "Epoch 6/75\n",
      "126/126 [==============================] - 0s 1ms/step - loss: 0.0482\n",
      "Epoch 7/75\n",
      "126/126 [==============================] - 0s 1ms/step - loss: 0.0432\n",
      "Epoch 8/75\n",
      "126/126 [==============================] - 0s 1ms/step - loss: 0.0380\n",
      "Epoch 9/75\n",
      "126/126 [==============================] - 0s 1ms/step - loss: 0.0331\n",
      "Epoch 10/75\n",
      "126/126 [==============================] - 0s 1ms/step - loss: 0.0283\n",
      "Epoch 11/75\n",
      "126/126 [==============================] - 0s 1ms/step - loss: 0.0238\n",
      "Epoch 12/75\n",
      "126/126 [==============================] - 0s 1ms/step - loss: 0.0196\n",
      "Epoch 13/75\n",
      "126/126 [==============================] - 0s 1ms/step - loss: 0.0158\n",
      "Epoch 14/75\n",
      "126/126 [==============================] - 0s 2ms/step - loss: 0.0125\n",
      "Epoch 15/75\n",
      "126/126 [==============================] - 0s 2ms/step - loss: 0.0096\n",
      "Epoch 16/75\n",
      "126/126 [==============================] - 0s 2ms/step - loss: 0.0071\n",
      "Epoch 17/75\n",
      "126/126 [==============================] - 0s 2ms/step - loss: 0.0052\n",
      "Epoch 18/75\n",
      "126/126 [==============================] - 0s 2ms/step - loss: 0.0037\n",
      "Epoch 19/75\n",
      "126/126 [==============================] - 0s 1ms/step - loss: 0.0025\n",
      "Epoch 20/75\n",
      "126/126 [==============================] - 0s 1ms/step - loss: 0.0017\n",
      "Epoch 21/75\n",
      "126/126 [==============================] - 0s 1ms/step - loss: 0.0011\n",
      "Epoch 22/75\n",
      "126/126 [==============================] - 0s 1ms/step - loss: 7.7510e-04\n",
      "Epoch 23/75\n",
      "126/126 [==============================] - 0s 2ms/step - loss: 5.5631e-04\n",
      "Epoch 24/75\n",
      "126/126 [==============================] - 0s 2ms/step - loss: 4.2685e-04\n",
      "Epoch 25/75\n",
      "126/126 [==============================] - 0s 1ms/step - loss: 3.5349e-04\n",
      "Epoch 26/75\n",
      "126/126 [==============================] - 0s 1ms/step - loss: 3.1501e-04\n",
      "Epoch 27/75\n",
      "126/126 [==============================] - 0s 1ms/step - loss: 2.9721e-04\n",
      "Epoch 28/75\n",
      "126/126 [==============================] - 0s 1ms/step - loss: 2.8824e-04\n",
      "Epoch 29/75\n",
      "126/126 [==============================] - 0s 1ms/step - loss: 2.8722e-04\n",
      "Epoch 30/75\n",
      "126/126 [==============================] - 0s 1ms/step - loss: 2.8203e-04\n",
      "Epoch 31/75\n",
      "126/126 [==============================] - 0s 1ms/step - loss: 2.8386e-04\n",
      "Epoch 32/75\n",
      "126/126 [==============================] - 0s 1ms/step - loss: 2.8153e-04\n",
      "Epoch 33/75\n",
      "126/126 [==============================] - 0s 1ms/step - loss: 2.8060e-04\n",
      "Epoch 34/75\n",
      "126/126 [==============================] - 0s 1ms/step - loss: 2.8305e-04\n",
      "Epoch 35/75\n",
      "126/126 [==============================] - 0s 1ms/step - loss: 2.7899e-04\n",
      "Epoch 36/75\n",
      "126/126 [==============================] - 0s 1ms/step - loss: 2.7876e-04\n",
      "Epoch 37/75\n",
      "126/126 [==============================] - 0s 1ms/step - loss: 2.7777e-04\n",
      "Epoch 38/75\n",
      "126/126 [==============================] - 0s 1ms/step - loss: 2.7923e-04\n",
      "Epoch 39/75\n",
      "126/126 [==============================] - 0s 1ms/step - loss: 2.7759e-04\n",
      "Epoch 40/75\n",
      "126/126 [==============================] - 0s 1ms/step - loss: 2.7826e-04\n",
      "Epoch 41/75\n",
      "126/126 [==============================] - 0s 1ms/step - loss: 2.7816e-04\n",
      "Epoch 42/75\n",
      "126/126 [==============================] - 0s 1ms/step - loss: 2.7986e-04\n",
      "Epoch 43/75\n",
      "126/126 [==============================] - 0s 1ms/step - loss: 2.7495e-04\n",
      "Epoch 44/75\n",
      "126/126 [==============================] - 0s 1ms/step - loss: 2.7601e-04\n",
      "Epoch 45/75\n",
      "126/126 [==============================] - 0s 1ms/step - loss: 2.7681e-04\n",
      "Epoch 46/75\n",
      "126/126 [==============================] - 0s 1ms/step - loss: 2.7519e-04\n",
      "Epoch 47/75\n",
      "126/126 [==============================] - 0s 1ms/step - loss: 2.7447e-04\n",
      "Epoch 48/75\n",
      "126/126 [==============================] - 0s 1ms/step - loss: 2.7688e-04\n",
      "Epoch 49/75\n",
      "126/126 [==============================] - 0s 1ms/step - loss: 2.7498e-04\n",
      "Epoch 50/75\n",
      "126/126 [==============================] - 0s 1ms/step - loss: 2.7345e-04\n",
      "Epoch 51/75\n",
      "126/126 [==============================] - 0s 1ms/step - loss: 2.7389e-04\n",
      "Epoch 52/75\n",
      "126/126 [==============================] - 0s 1ms/step - loss: 2.7706e-04\n",
      "Epoch 53/75\n",
      "126/126 [==============================] - 0s 1ms/step - loss: 2.7506e-04\n",
      "Epoch 54/75\n",
      "126/126 [==============================] - 0s 1ms/step - loss: 2.8127e-04\n",
      "Epoch 55/75\n",
      "126/126 [==============================] - 0s 1ms/step - loss: 2.7939e-04\n",
      "Epoch 56/75\n",
      "126/126 [==============================] - 0s 1ms/step - loss: 2.7500e-04\n",
      "Epoch 57/75\n",
      "126/126 [==============================] - 0s 1ms/step - loss: 2.7054e-04\n",
      "Epoch 58/75\n",
      "126/126 [==============================] - 0s 1ms/step - loss: 2.7431e-04\n",
      "Epoch 59/75\n",
      "126/126 [==============================] - 0s 2ms/step - loss: 2.7338e-04\n",
      "Epoch 60/75\n",
      "126/126 [==============================] - 0s 2ms/step - loss: 2.7976e-04\n",
      "Epoch 61/75\n",
      "126/126 [==============================] - 0s 2ms/step - loss: 2.7171e-04\n",
      "Epoch 62/75\n",
      "126/126 [==============================] - 0s 1ms/step - loss: 2.7379e-04\n",
      "Epoch 63/75\n",
      "126/126 [==============================] - 0s 2ms/step - loss: 2.6992e-04\n",
      "Epoch 64/75\n",
      "126/126 [==============================] - 0s 1ms/step - loss: 2.7531e-04\n",
      "Epoch 65/75\n",
      "126/126 [==============================] - 0s 1ms/step - loss: 2.7540e-04\n",
      "Epoch 66/75\n",
      "126/126 [==============================] - 0s 1ms/step - loss: 2.7220e-04\n",
      "Epoch 67/75\n",
      "126/126 [==============================] - 0s 1ms/step - loss: 2.7085e-04\n",
      "Epoch 68/75\n",
      "126/126 [==============================] - 0s 1ms/step - loss: 2.7984e-04\n",
      "Epoch 69/75\n",
      "126/126 [==============================] - 0s 1ms/step - loss: 2.7144e-04\n",
      "Epoch 70/75\n",
      "126/126 [==============================] - 0s 1ms/step - loss: 2.7353e-04\n",
      "Epoch 71/75\n",
      "126/126 [==============================] - 0s 1ms/step - loss: 2.7534e-04\n",
      "Epoch 72/75\n",
      "126/126 [==============================] - 0s 1ms/step - loss: 2.7712e-04\n",
      "Epoch 73/75\n",
      "126/126 [==============================] - 0s 2ms/step - loss: 2.7108e-04\n",
      "Epoch 74/75\n",
      "126/126 [==============================] - 0s 2ms/step - loss: 2.7739e-04\n",
      "Epoch 75/75\n",
      "126/126 [==============================] - 0s 1ms/step - loss: 2.7235e-04\n"
     ]
    }
   ],
   "source": [
    "#Train the model\n",
    "trained_model=model.fit(X_train,Y_train,batch_size=10,epochs=75)\n",
    "                      # validation_split=0.2,callbacks=callback)\n",
    "#validation_split=0.2 means 20% data of training data X_train\n",
    "#80% for training and 20% for validation "
   ]
  },
  {
   "cell_type": "code",
   "execution_count": 35,
   "id": "e6e22f09",
   "metadata": {
    "colab": {
     "base_uri": "https://localhost:8080/",
     "height": 206
    },
    "executionInfo": {
     "elapsed": 59,
     "status": "ok",
     "timestamp": 1660732422602,
     "user": {
      "displayName": "Kamran Shaikh",
      "userId": "05909890588408576726"
     },
     "user_tz": -330
    },
    "id": "e6e22f09",
    "outputId": "84681e08-d0d4-4629-acfe-7f35c490713a"
   },
   "outputs": [
    {
     "data": {
      "text/html": [
       "<div>\n",
       "<style scoped>\n",
       "    .dataframe tbody tr th:only-of-type {\n",
       "        vertical-align: middle;\n",
       "    }\n",
       "\n",
       "    .dataframe tbody tr th {\n",
       "        vertical-align: top;\n",
       "    }\n",
       "\n",
       "    .dataframe thead th {\n",
       "        text-align: right;\n",
       "    }\n",
       "</style>\n",
       "<table border=\"1\" class=\"dataframe\">\n",
       "  <thead>\n",
       "    <tr style=\"text-align: right;\">\n",
       "      <th></th>\n",
       "      <th>Date</th>\n",
       "      <th>Open</th>\n",
       "      <th>High</th>\n",
       "      <th>Low</th>\n",
       "      <th>Close</th>\n",
       "      <th>Volume</th>\n",
       "    </tr>\n",
       "  </thead>\n",
       "  <tbody>\n",
       "    <tr>\n",
       "      <th>0</th>\n",
       "      <td>1/3/2017</td>\n",
       "      <td>778.81</td>\n",
       "      <td>789.63</td>\n",
       "      <td>775.80</td>\n",
       "      <td>786.14</td>\n",
       "      <td>1,657,300</td>\n",
       "    </tr>\n",
       "    <tr>\n",
       "      <th>1</th>\n",
       "      <td>1/4/2017</td>\n",
       "      <td>788.36</td>\n",
       "      <td>791.34</td>\n",
       "      <td>783.16</td>\n",
       "      <td>786.90</td>\n",
       "      <td>1,073,000</td>\n",
       "    </tr>\n",
       "    <tr>\n",
       "      <th>2</th>\n",
       "      <td>1/5/2017</td>\n",
       "      <td>786.08</td>\n",
       "      <td>794.48</td>\n",
       "      <td>785.02</td>\n",
       "      <td>794.02</td>\n",
       "      <td>1,335,200</td>\n",
       "    </tr>\n",
       "    <tr>\n",
       "      <th>3</th>\n",
       "      <td>1/6/2017</td>\n",
       "      <td>795.26</td>\n",
       "      <td>807.90</td>\n",
       "      <td>792.20</td>\n",
       "      <td>806.15</td>\n",
       "      <td>1,640,200</td>\n",
       "    </tr>\n",
       "    <tr>\n",
       "      <th>4</th>\n",
       "      <td>1/9/2017</td>\n",
       "      <td>806.40</td>\n",
       "      <td>809.97</td>\n",
       "      <td>802.83</td>\n",
       "      <td>806.65</td>\n",
       "      <td>1,272,400</td>\n",
       "    </tr>\n",
       "  </tbody>\n",
       "</table>\n",
       "</div>"
      ],
      "text/plain": [
       "       Date    Open    High     Low   Close     Volume\n",
       "0  1/3/2017  778.81  789.63  775.80  786.14  1,657,300\n",
       "1  1/4/2017  788.36  791.34  783.16  786.90  1,073,000\n",
       "2  1/5/2017  786.08  794.48  785.02  794.02  1,335,200\n",
       "3  1/6/2017  795.26  807.90  792.20  806.15  1,640,200\n",
       "4  1/9/2017  806.40  809.97  802.83  806.65  1,272,400"
      ]
     },
     "execution_count": 35,
     "metadata": {},
     "output_type": "execute_result"
    }
   ],
   "source": [
    "#Test the model : -\n",
    "#Part-3 : -Making the prediction and visualizing the result \n",
    "#Required Testing Data : We have Google_stock_price_test.csv for testing data \n",
    "test_df=pd.read_csv('Google_Stock_Price_Test.csv')\n",
    "#to show first 5 records\n",
    "test_df.head()"
   ]
  },
  {
   "cell_type": "code",
   "execution_count": 36,
   "id": "5695409b",
   "metadata": {
    "colab": {
     "base_uri": "https://localhost:8080/"
    },
    "executionInfo": {
     "elapsed": 56,
     "status": "ok",
     "timestamp": 1660732422603,
     "user": {
      "displayName": "Kamran Shaikh",
      "userId": "05909890588408576726"
     },
     "user_tz": -330
    },
    "id": "5695409b",
    "outputId": "aeb0da13-e176-4afc-dfa3-5f5272e47964"
   },
   "outputs": [
    {
     "data": {
      "text/plain": [
       "Date       object\n",
       "Open      float64\n",
       "High      float64\n",
       "Low       float64\n",
       "Close     float64\n",
       "Volume     object\n",
       "dtype: object"
      ]
     },
     "execution_count": 36,
     "metadata": {},
     "output_type": "execute_result"
    }
   ],
   "source": [
    "test_df.dtypes"
   ]
  },
  {
   "cell_type": "code",
   "execution_count": 37,
   "id": "82d93d76",
   "metadata": {
    "colab": {
     "base_uri": "https://localhost:8080/",
     "height": 206
    },
    "executionInfo": {
     "elapsed": 52,
     "status": "ok",
     "timestamp": 1660732422604,
     "user": {
      "displayName": "Kamran Shaikh",
      "userId": "05909890588408576726"
     },
     "user_tz": -330
    },
    "id": "82d93d76",
    "outputId": "f37709d7-05ae-4900-84a3-35830df7e14d"
   },
   "outputs": [
    {
     "data": {
      "text/html": [
       "<div>\n",
       "<style scoped>\n",
       "    .dataframe tbody tr th:only-of-type {\n",
       "        vertical-align: middle;\n",
       "    }\n",
       "\n",
       "    .dataframe tbody tr th {\n",
       "        vertical-align: top;\n",
       "    }\n",
       "\n",
       "    .dataframe thead th {\n",
       "        text-align: right;\n",
       "    }\n",
       "</style>\n",
       "<table border=\"1\" class=\"dataframe\">\n",
       "  <thead>\n",
       "    <tr style=\"text-align: right;\">\n",
       "      <th></th>\n",
       "      <th>Date</th>\n",
       "      <th>Open</th>\n",
       "      <th>High</th>\n",
       "      <th>Low</th>\n",
       "      <th>Close</th>\n",
       "      <th>Volume</th>\n",
       "    </tr>\n",
       "  </thead>\n",
       "  <tbody>\n",
       "    <tr>\n",
       "      <th>0</th>\n",
       "      <td>2017-01-03</td>\n",
       "      <td>778.81</td>\n",
       "      <td>789.63</td>\n",
       "      <td>775.80</td>\n",
       "      <td>786.14</td>\n",
       "      <td>1,657,300</td>\n",
       "    </tr>\n",
       "    <tr>\n",
       "      <th>1</th>\n",
       "      <td>2017-01-04</td>\n",
       "      <td>788.36</td>\n",
       "      <td>791.34</td>\n",
       "      <td>783.16</td>\n",
       "      <td>786.90</td>\n",
       "      <td>1,073,000</td>\n",
       "    </tr>\n",
       "    <tr>\n",
       "      <th>2</th>\n",
       "      <td>2017-01-05</td>\n",
       "      <td>786.08</td>\n",
       "      <td>794.48</td>\n",
       "      <td>785.02</td>\n",
       "      <td>794.02</td>\n",
       "      <td>1,335,200</td>\n",
       "    </tr>\n",
       "    <tr>\n",
       "      <th>3</th>\n",
       "      <td>2017-01-06</td>\n",
       "      <td>795.26</td>\n",
       "      <td>807.90</td>\n",
       "      <td>792.20</td>\n",
       "      <td>806.15</td>\n",
       "      <td>1,640,200</td>\n",
       "    </tr>\n",
       "    <tr>\n",
       "      <th>4</th>\n",
       "      <td>2017-01-09</td>\n",
       "      <td>806.40</td>\n",
       "      <td>809.97</td>\n",
       "      <td>802.83</td>\n",
       "      <td>806.65</td>\n",
       "      <td>1,272,400</td>\n",
       "    </tr>\n",
       "  </tbody>\n",
       "</table>\n",
       "</div>"
      ],
      "text/plain": [
       "        Date    Open    High     Low   Close     Volume\n",
       "0 2017-01-03  778.81  789.63  775.80  786.14  1,657,300\n",
       "1 2017-01-04  788.36  791.34  783.16  786.90  1,073,000\n",
       "2 2017-01-05  786.08  794.48  785.02  794.02  1,335,200\n",
       "3 2017-01-06  795.26  807.90  792.20  806.15  1,640,200\n",
       "4 2017-01-09  806.40  809.97  802.83  806.65  1,272,400"
      ]
     },
     "execution_count": 37,
     "metadata": {},
     "output_type": "execute_result"
    }
   ],
   "source": [
    "test_df['Date']=pd.to_datetime(test_df['Date'])\n",
    "test_df.head()"
   ]
  },
  {
   "cell_type": "code",
   "execution_count": 38,
   "id": "039a8920",
   "metadata": {
    "colab": {
     "base_uri": "https://localhost:8080/"
    },
    "executionInfo": {
     "elapsed": 50,
     "status": "ok",
     "timestamp": 1660732422604,
     "user": {
      "displayName": "Kamran Shaikh",
      "userId": "05909890588408576726"
     },
     "user_tz": -330
    },
    "id": "039a8920",
    "outputId": "c7f5a58e-2e4e-4a82-a084-e4ea51546005"
   },
   "outputs": [
    {
     "data": {
      "text/plain": [
       "array([[778.81],\n",
       "       [788.36],\n",
       "       [786.08],\n",
       "       [795.26],\n",
       "       [806.4 ],\n",
       "       [807.86],\n",
       "       [805.  ],\n",
       "       [807.14],\n",
       "       [807.48],\n",
       "       [807.08],\n",
       "       [805.81],\n",
       "       [805.12],\n",
       "       [806.91],\n",
       "       [807.25],\n",
       "       [822.3 ],\n",
       "       [829.62],\n",
       "       [837.81],\n",
       "       [834.71],\n",
       "       [814.66],\n",
       "       [796.86]])"
      ]
     },
     "execution_count": 38,
     "metadata": {},
     "output_type": "execute_result"
    }
   ],
   "source": [
    "#separate Open column from given testing dataset \n",
    "test_df1=test_df.iloc[:,1:2].values #or df1=df['Open']  df.loc[:,'Open']\n",
    "#1:2 means start=1 and stop=2-1=1\n",
    "test_df1"
   ]
  },
  {
   "cell_type": "code",
   "execution_count": 39,
   "id": "1ccb4655",
   "metadata": {
    "id": "1ccb4655"
   },
   "outputs": [],
   "source": [
    "#Apply Normalised (minmaxscaler) on test_df1 (input)\n",
    "#only transform() on testing data\n",
    "test_df1=mms.transform(test_df1)"
   ]
  },
  {
   "cell_type": "code",
   "execution_count": 40,
   "id": "1dc4fdbd",
   "metadata": {
    "colab": {
     "base_uri": "https://localhost:8080/"
    },
    "executionInfo": {
     "elapsed": 46,
     "status": "ok",
     "timestamp": 1660732422605,
     "user": {
      "displayName": "Kamran Shaikh",
      "userId": "05909890588408576726"
     },
     "user_tz": -330
    },
    "id": "1dc4fdbd",
    "outputId": "028de488-b60e-4059-a92a-b75b11579a6b"
   },
   "outputs": [
    {
     "data": {
      "text/plain": [
       "20"
      ]
     },
     "execution_count": 40,
     "metadata": {},
     "output_type": "execute_result"
    }
   ],
   "source": [
    "len(test_df1)"
   ]
  },
  {
   "cell_type": "code",
   "execution_count": 41,
   "id": "d8e99dc9",
   "metadata": {
    "colab": {
     "base_uri": "https://localhost:8080/"
    },
    "executionInfo": {
     "elapsed": 44,
     "status": "ok",
     "timestamp": 1660732422606,
     "user": {
      "displayName": "Kamran Shaikh",
      "userId": "05909890588408576726"
     },
     "user_tz": -330
    },
    "id": "d8e99dc9",
    "outputId": "92977f65-0ca5-4a5f-d4ab-8b85fa00342d"
   },
   "outputs": [
    {
     "data": {
      "text/plain": [
       "2"
      ]
     },
     "execution_count": 41,
     "metadata": {},
     "output_type": "execute_result"
    }
   ],
   "source": [
    "test_df1.ndim"
   ]
  },
  {
   "cell_type": "code",
   "execution_count": 42,
   "id": "fa5397be",
   "metadata": {
    "id": "fa5397be"
   },
   "outputs": [],
   "source": [
    "#convert our testing input into 3 D\n",
    "test_df1=np.reshape(test_df1,(20,1,1))"
   ]
  },
  {
   "cell_type": "code",
   "execution_count": 43,
   "id": "6abf1189",
   "metadata": {
    "colab": {
     "base_uri": "https://localhost:8080/"
    },
    "executionInfo": {
     "elapsed": 41,
     "status": "ok",
     "timestamp": 1660732422607,
     "user": {
      "displayName": "Kamran Shaikh",
      "userId": "05909890588408576726"
     },
     "user_tz": -330
    },
    "id": "6abf1189",
    "outputId": "0265f6d4-7b6a-4bd6-f154-779bc31c1201"
   },
   "outputs": [
    {
     "data": {
      "text/plain": [
       "3"
      ]
     },
     "execution_count": 43,
     "metadata": {},
     "output_type": "execute_result"
    }
   ],
   "source": [
    "test_df1.ndim"
   ]
  },
  {
   "cell_type": "code",
   "execution_count": 44,
   "id": "7a094794",
   "metadata": {
    "colab": {
     "base_uri": "https://localhost:8080/"
    },
    "executionInfo": {
     "elapsed": 38,
     "status": "ok",
     "timestamp": 1660732422607,
     "user": {
      "displayName": "Kamran Shaikh",
      "userId": "05909890588408576726"
     },
     "user_tz": -330
    },
    "id": "7a094794",
    "outputId": "2e4fbb00-d18c-4698-d2ba-375f091df3b9"
   },
   "outputs": [
    {
     "data": {
      "text/plain": [
       "array([[[0.92955205]],\n",
       "\n",
       "       [[0.94731751]],\n",
       "\n",
       "       [[0.94307612]],\n",
       "\n",
       "       [[0.96015329]],\n",
       "\n",
       "       [[0.98087655]],\n",
       "\n",
       "       [[0.98359253]],\n",
       "\n",
       "       [[0.97827219]],\n",
       "\n",
       "       [[0.98225314]],\n",
       "\n",
       "       [[0.98288563]],\n",
       "\n",
       "       [[0.98214153]],\n",
       "\n",
       "       [[0.979779  ]],\n",
       "\n",
       "       [[0.97849542]],\n",
       "\n",
       "       [[0.98182528]],\n",
       "\n",
       "       [[0.98245777]],\n",
       "\n",
       "       [[1.01045465]],\n",
       "\n",
       "       [[1.02407173]],\n",
       "\n",
       "       [[1.03930724]],\n",
       "\n",
       "       [[1.03354044]],\n",
       "\n",
       "       [[0.99624228]],\n",
       "\n",
       "       [[0.9631297 ]]])"
      ]
     },
     "execution_count": 44,
     "metadata": {},
     "output_type": "execute_result"
    }
   ],
   "source": [
    "test_df1"
   ]
  },
  {
   "cell_type": "code",
   "execution_count": 45,
   "id": "64fdfad0",
   "metadata": {
    "colab": {
     "base_uri": "https://localhost:8080/"
    },
    "executionInfo": {
     "elapsed": 1047,
     "status": "ok",
     "timestamp": 1660732423619,
     "user": {
      "displayName": "Kamran Shaikh",
      "userId": "05909890588408576726"
     },
     "user_tz": -330
    },
    "id": "64fdfad0",
    "outputId": "a7144d07-b938-4fad-b736-f432cdeeff64"
   },
   "outputs": [
    {
     "name": "stdout",
     "output_type": "stream",
     "text": [
      "1/1 [==============================] - 0s 180ms/step\n"
     ]
    },
    {
     "data": {
      "text/plain": [
       "array([[0.9225699 ],\n",
       "       [0.9379405 ],\n",
       "       [0.9342904 ],\n",
       "       [0.94891155],\n",
       "       [0.96638274],\n",
       "       [0.9686501 ],\n",
       "       [0.9642035 ],\n",
       "       [0.96753263],\n",
       "       [0.9680606 ],\n",
       "       [0.96743953],\n",
       "       [0.96546495],\n",
       "       [0.96439064],\n",
       "       [0.96717525],\n",
       "       [0.96770346],\n",
       "       [0.99079394],\n",
       "       [1.0018216 ],\n",
       "       [1.0140011 ],\n",
       "       [1.009411  ],\n",
       "       [0.97914195],\n",
       "       [0.95143926]], dtype=float32)"
      ]
     },
     "execution_count": 45,
     "metadata": {},
     "output_type": "execute_result"
    }
   ],
   "source": [
    "Y_pred=model.predict(test_df1) #test\n",
    "Y_pred"
   ]
  },
  {
   "cell_type": "code",
   "execution_count": 46,
   "id": "d81d1216",
   "metadata": {
    "colab": {
     "base_uri": "https://localhost:8080/"
    },
    "executionInfo": {
     "elapsed": 44,
     "status": "ok",
     "timestamp": 1660732423620,
     "user": {
      "displayName": "Kamran Shaikh",
      "userId": "05909890588408576726"
     },
     "user_tz": -330
    },
    "id": "d81d1216",
    "outputId": "c1a1d765-ea82-4ddf-e075-9799ce98862c"
   },
   "outputs": [
    {
     "data": {
      "text/plain": [
       "array([[775.05664],\n",
       "       [783.3193 ],\n",
       "       [781.3571 ],\n",
       "       [789.21686],\n",
       "       [798.6087 ],\n",
       "       [799.8275 ],\n",
       "       [797.4372 ],\n",
       "       [799.2268 ],\n",
       "       [799.5106 ],\n",
       "       [799.17676],\n",
       "       [798.1153 ],\n",
       "       [797.5378 ],\n",
       "       [799.0347 ],\n",
       "       [799.31866],\n",
       "       [811.73114],\n",
       "       [817.65924],\n",
       "       [824.2064 ],\n",
       "       [821.73895],\n",
       "       [805.4675 ],\n",
       "       [790.5757 ]], dtype=float32)"
      ]
     },
     "execution_count": 46,
     "metadata": {},
     "output_type": "execute_result"
    }
   ],
   "source": [
    "#To remove scaling on Y_pred  , use inverse_transform which are define\n",
    "#in MinMAxScaler class\n",
    "Y_pred=mms.inverse_transform(Y_pred)\n",
    "Y_pred"
   ]
  },
  {
   "cell_type": "code",
   "execution_count": 47,
   "id": "7beb32bd",
   "metadata": {
    "colab": {
     "base_uri": "https://localhost:8080/"
    },
    "executionInfo": {
     "elapsed": 40,
     "status": "ok",
     "timestamp": 1660732423621,
     "user": {
      "displayName": "Kamran Shaikh",
      "userId": "05909890588408576726"
     },
     "user_tz": -330
    },
    "id": "7beb32bd",
    "outputId": "bf2407e5-d75f-4f34-86d4-d2d6a682e310"
   },
   "outputs": [
    {
     "data": {
      "text/plain": [
       "array([[[0.92955205]],\n",
       "\n",
       "       [[0.94731751]],\n",
       "\n",
       "       [[0.94307612]],\n",
       "\n",
       "       [[0.96015329]],\n",
       "\n",
       "       [[0.98087655]],\n",
       "\n",
       "       [[0.98359253]],\n",
       "\n",
       "       [[0.97827219]],\n",
       "\n",
       "       [[0.98225314]],\n",
       "\n",
       "       [[0.98288563]],\n",
       "\n",
       "       [[0.98214153]],\n",
       "\n",
       "       [[0.979779  ]],\n",
       "\n",
       "       [[0.97849542]],\n",
       "\n",
       "       [[0.98182528]],\n",
       "\n",
       "       [[0.98245777]],\n",
       "\n",
       "       [[1.01045465]],\n",
       "\n",
       "       [[1.02407173]],\n",
       "\n",
       "       [[1.03930724]],\n",
       "\n",
       "       [[1.03354044]],\n",
       "\n",
       "       [[0.99624228]],\n",
       "\n",
       "       [[0.9631297 ]]])"
      ]
     },
     "execution_count": 47,
     "metadata": {},
     "output_type": "execute_result"
    }
   ],
   "source": [
    "test_df1"
   ]
  },
  {
   "cell_type": "code",
   "execution_count": 48,
   "id": "f81fd318",
   "metadata": {
    "id": "f81fd318"
   },
   "outputs": [],
   "source": [
    "real_df=test_df.iloc[:,1:2].values   # To get actual provided values of only Date column"
   ]
  },
  {
   "cell_type": "code",
   "execution_count": 49,
   "id": "ba4e2daf",
   "metadata": {
    "colab": {
     "base_uri": "https://localhost:8080/"
    },
    "executionInfo": {
     "elapsed": 36,
     "status": "ok",
     "timestamp": 1660732423622,
     "user": {
      "displayName": "Kamran Shaikh",
      "userId": "05909890588408576726"
     },
     "user_tz": -330
    },
    "id": "ba4e2daf",
    "outputId": "dc8f0eec-d635-4bd0-b98f-f237387f184f"
   },
   "outputs": [
    {
     "data": {
      "text/plain": [
       "array([[778.81],\n",
       "       [788.36],\n",
       "       [786.08],\n",
       "       [795.26],\n",
       "       [806.4 ],\n",
       "       [807.86],\n",
       "       [805.  ],\n",
       "       [807.14],\n",
       "       [807.48],\n",
       "       [807.08],\n",
       "       [805.81],\n",
       "       [805.12],\n",
       "       [806.91],\n",
       "       [807.25],\n",
       "       [822.3 ],\n",
       "       [829.62],\n",
       "       [837.81],\n",
       "       [834.71],\n",
       "       [814.66],\n",
       "       [796.86]])"
      ]
     },
     "execution_count": 49,
     "metadata": {},
     "output_type": "execute_result"
    }
   ],
   "source": [
    "real_df"
   ]
  },
  {
   "cell_type": "code",
   "execution_count": 50,
   "id": "Kwwy_V8rRNF4",
   "metadata": {
    "colab": {
     "base_uri": "https://localhost:8080/"
    },
    "executionInfo": {
     "elapsed": 32,
     "status": "ok",
     "timestamp": 1660732423623,
     "user": {
      "displayName": "Kamran Shaikh",
      "userId": "05909890588408576726"
     },
     "user_tz": -330
    },
    "id": "Kwwy_V8rRNF4",
    "outputId": "fb5daa44-a742-4cb9-88a5-6a21912be5dc"
   },
   "outputs": [
    {
     "data": {
      "text/plain": [
       "(20, 1)"
      ]
     },
     "execution_count": 50,
     "metadata": {},
     "output_type": "execute_result"
    }
   ],
   "source": [
    "Y_pred.shape"
   ]
  },
  {
   "cell_type": "code",
   "execution_count": 51,
   "id": "TcNiPLDzRkHh",
   "metadata": {
    "colab": {
     "base_uri": "https://localhost:8080/",
     "height": 295
    },
    "executionInfo": {
     "elapsed": 28,
     "status": "ok",
     "timestamp": 1660732423624,
     "user": {
      "displayName": "Kamran Shaikh",
      "userId": "05909890588408576726"
     },
     "user_tz": -330
    },
    "id": "TcNiPLDzRkHh",
    "outputId": "a46fea9c-eba1-470b-966c-2bcead53077f"
   },
   "outputs": [
    {
     "data": {
      "image/png": "[encoded data removed]",
      "text/plain": [
       "<Figure size 432x288 with 1 Axes>"
      ]
     },
     "metadata": {
      "needs_background": "light"
     },
     "output_type": "display_data"
    }
   ],
   "source": [
    "# for compare Actual value Stock Price and Predicted Stock price,\n",
    "# Use Visualisation\n",
    "plt.plot(real_df,color='red',label='Actual Stock Price')\n",
    "plt.plot(Y_pred,color='blue',label='Predicterd Stock Price')\n",
    "plt.title('Google Stock Price')\n",
    "plt.xlabel('Date')\n",
    "plt.ylabel('Google Stock Price')\n",
    "plt.show()"
   ]
  },
  {
   "cell_type": "code",
   "execution_count": 52,
   "id": "luS-K7DNTOat",
   "metadata": {
    "colab": {
     "base_uri": "https://localhost:8080/"
    },
    "executionInfo": {
     "elapsed": 25,
     "status": "ok",
     "timestamp": 1660732423624,
     "user": {
      "displayName": "Kamran Shaikh",
      "userId": "05909890588408576726"
     },
     "user_tz": -330
    },
    "id": "luS-K7DNTOat",
    "outputId": "cca3de0e-d742-4c35-9b11-265b91700b7d"
   },
   "outputs": [
    {
     "data": {
      "text/plain": [
       "0.6680268751749915"
      ]
     },
     "execution_count": 52,
     "metadata": {},
     "output_type": "execute_result"
    }
   ],
   "source": [
    "# Evaluation of model: find r2_score\n",
    "from sklearn.metrics import r2_score          \n",
    "r2_score(real_df,Y_pred)"
   ]
  },
  {
   "cell_type": "code",
   "execution_count": 55,
   "id": "i4kw87zvUuxh",
   "metadata": {
    "colab": {
     "base_uri": "https://localhost:8080/"
    },
    "executionInfo": {
     "elapsed": 4200,
     "status": "ok",
     "timestamp": 1660733368292,
     "user": {
      "displayName": "Kamran Shaikh",
      "userId": "05909890588408576726"
     },
     "user_tz": -330
    },
    "id": "i4kw87zvUuxh",
    "outputId": "1084c98c-285d-4fef-e730-d3cc149d577b"
   },
   "outputs": [
    {
     "name": "stdout",
     "output_type": "stream",
     "text": [
      "Enter Today Opening Stock Price :135\n",
      "1/1 [==============================] - 0s 17ms/step\n",
      "Opening Price of Next day:  [[180.0964]]\n"
     ]
    }
   ],
   "source": [
    "# Predict next dat stock price\n",
    "n=float(input('Enter Today Opening Stock Price :'))\n",
    "# here n is scaler variable \n",
    "# print(type(n))\n",
    "# First, convert n into 2D numpy array\n",
    "n=np.array(n).reshape(-1,1)   # here -1 means None means automatic accept no. or rows but next 1 means no. of column\n",
    "#print(type(n))\n",
    "#print(n.ndim)\n",
    "# Apply scaling : normalisation means MinMaxScaler\n",
    "n1=mms.transform(n)\n",
    "#print(n1)\n",
    "# converts n1 from 2D into 3D array\n",
    "v=n1.reshape(-1,1,1)\n",
    "# print(v)\n",
    "# prediction\n",
    "pred=model.predict(v)\n",
    "# print(pred)\n",
    "# to remove scaling\n",
    "final=mms.inverse_transform(pred)\n",
    "print('Opening Price of Next day: ',final)"
   ]
  },
  {
   "cell_type": "code",
   "execution_count": null,
   "id": "vXrAWN5qYdkU",
   "metadata": {
    "id": "vXrAWN5qYdkU"
   },
   "outputs": [],
   "source": []
  },
  {
   "cell_type": "code",
   "execution_count": 54,
   "id": "YxrY-HGOa87d",
   "metadata": {
    "colab": {
     "base_uri": "https://localhost:8080/"
    },
    "executionInfo": {
     "elapsed": 9238,
     "status": "ok",
     "timestamp": 1660734531983,
     "user": {
      "displayName": "Kamran Shaikh",
      "userId": "05909890588408576726"
     },
     "user_tz": -330
    },
    "id": "YxrY-HGOa87d",
    "outputId": "edea0ba0-31d0-410b-d523-8a7adb84cc76"
   },
   "outputs": [
    {
     "name": "stdout",
     "output_type": "stream",
     "text": [
      "Enter Today Opening Stock Price :135\n",
      "Enter How many days5\n",
      "1/1 [==============================] - 0s 25ms/step\n",
      "Opening Price of Next day:  [[180.0964]]\n",
      "1/1 [==============================] - 0s 16ms/step\n",
      "Opening Price of Next day:  [[209.88419]]\n",
      "1/1 [==============================] - 0s 17ms/step\n",
      "Opening Price of Next day:  [[231.2086]]\n",
      "1/1 [==============================] - 0s 16ms/step\n",
      "Opening Price of Next day:  [[247.2826]]\n",
      "1/1 [==============================] - 0s 16ms/step\n",
      "Opening Price of Next day:  [[259.8414]]\n"
     ]
    }
   ],
   "source": [
    "# If we want to predict stock price of next 5 day's , then we use for loop\n",
    "\n",
    "n=float(input('Enter Today Opening Stock Price :'))\n",
    "# here n is scaler variable \n",
    "# print(type(n))\n",
    "# First, convert n into 2D numpy array\n",
    "n=np.array(n).reshape(-1,1)\n",
    "days=int(input('Enter How many days'))\n",
    "for i in range(days):\n",
    "  n=np.array(n).reshape(-1,1)   # here -1 means None means automatic accept no. or rows but next 1 means no. of column\n",
    "  # Apply scaling : normalisation means MinMaxScaler\n",
    "  n1=mms.transform(n)\n",
    "  # converts n1 from 2D into 3D array\n",
    "  v=n1.reshape(-1,1,1)\n",
    "  # prediction\n",
    "  pred=model.predict(v)\n",
    "  # to remove scaling\n",
    "  final=mms.inverse_transform(pred)\n",
    "  print('Opening Price of Next day: ',final)\n",
    "  n=final"
   ]
  },
  {
   "cell_type": "code",
   "execution_count": null,
   "id": "5hh4N15LeCOs",
   "metadata": {
    "id": "5hh4N15LeCOs"
   },
   "outputs": [],
   "source": []
  }
 ],
 "metadata": {
  "colab": {
   "collapsed_sections": [],
   "name": "Google stock price prediction TSA Aug_10th and 17th 2 .ipynb",
   "provenance": []
  },
  "kernelspec": {
   "display_name": "Python 3 (ipykernel)",
   "language": "python",
   "name": "python3"
  },
  "language_info": {
   "codemirror_mode": {
    "name": "ipython",
    "version": 3
   },
   "file_extension": ".py",
   "mimetype": "text/x-python",
   "name": "python",
   "nbconvert_exporter": "python",
   "pygments_lexer": "ipython3",
   "version": "3.9.7"
  }
 },
 "nbformat": 4,
 "nbformat_minor": 5
}
